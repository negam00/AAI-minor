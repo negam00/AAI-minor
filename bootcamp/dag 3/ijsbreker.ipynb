{
 "cells": [
  {
   "cell_type": "markdown",
   "metadata": {
    "colab_type": "text",
    "id": "5f9FfZhyVxmd"
   },
   "source": [
    "**Vraag:  Bekijk data, wat voor verschillende datatypes heb je?**\n",
    "\n",
    "Antwoord: \n",
    "\n",
    "\n",
    "\t\n",
    "Studie : Nominaal\n",
    "\tHobby's : Nominaal\n",
    "\tWaarom deze minor : Nominaal    \n",
    "\tHoe vond je de eerste lesdag? : Nominaal\n",
    "\tKon je al wat dingen in Python doen? : Nominaal\n",
    "\tWat is je laagste cijfer? : Ratio\n",
    "\tWat is het weer nu bij jou? : Ordinaal\n",
    "\tHoe oud ben je? : Ratio\n",
    "\tWerk je? : Nominaal (eigenlijk binair)\n",
    "\tHeb je al je bedrijfspunten al? : Nominaal (eigenlijk binair)\n",
    "\tMoet je nog vakken inhalen? : Nominaal (eigenlijk binair)\n",
    "\tWelk jaar zit je? : Ratio\n",
    "\tWaar woon je? : Spatieel"
   ]
  },
  {
   "cell_type": "code",
   "execution_count": null,
   "metadata": {
    "colab": {},
    "colab_type": "code",
    "id": "TrKwinyMWSU1"
   },
   "outputs": [],
   "source": [
    "import pandas as pd\n",
    "import numpy as np\n",
    "\n",
    "df = pd.read_csv(\"5vragen.csv\")"
   ]
  },
  {
   "cell_type": "code",
   "execution_count": null,
   "metadata": {
    "colab": {},
    "colab_type": "code",
    "id": "YzVHNP0IWVtH"
   },
   "outputs": [],
   "source": [
    "df_dos = pd.read_csv(\"5vragen_group.csv\")"
   ]
  },
  {
   "cell_type": "code",
   "execution_count": null,
   "metadata": {
    "colab": {
     "base_uri": "https://localhost:8080/",
     "height": 298
    },
    "colab_type": "code",
    "id": "702hjmBOWW0H",
    "outputId": "905bb6bc-9f6a-46ca-b2df-3dba5fd9ffd5"
   },
   "outputs": [
    {
     "name": "stdout",
     "output_type": "stream",
     "text": [
      "       Naam  ...        StudieRichting\n",
      "0      Arya  ...                   NaN\n",
      "1     Theon  ...                   NaN\n",
      "2    Tyrion  ...                   NaN\n",
      "3     Jaime  ...                   NaN\n",
      "4       JON  ...                   NaN\n",
      "5     Roald  ...                    SE\n",
      "6    Taariq  ...           engineering\n",
      "7     James  ...  Software Engineering\n",
      "8      Ludo  ...                    se\n",
      "9    Jeroen  ...                    SE\n",
      "10   Thomas  ...       Engineering SES\n",
      "11  Youssef  ...                    SE\n",
      "12    Megan  ...                    SE\n",
      "\n",
      "[13 rows x 6 columns]\n"
     ]
    }
   ],
   "source": [
    "df_drie = pd.concat([df, df_dos], ignore_index=True)\n",
    "print(df_drie)"
   ]
  },
  {
   "cell_type": "code",
   "execution_count": null,
   "metadata": {
    "colab": {},
    "colab_type": "code",
    "id": "Usaq0PdTX0Kr"
   },
   "outputs": [],
   "source": [
    "df_drie = df_drie.replace(\"'\",'', regex=True)\n",
    "\n",
    "df_drie['StudieRichting'] = df_drie['StudieRichting'].str.lower()\n",
    "df_drie[\"StudieRichting\"].replace('software engineering', 'se', inplace=True)\n",
    "df_drie.replace('engineering ses', 'engineering', inplace=True)\n",
    "df_drie.replace('engineering', 'ses', inplace=True)\n",
    "\n",
    "\n"
   ]
  },
  {
   "cell_type": "code",
   "execution_count": null,
   "metadata": {
    "colab": {
     "base_uri": "https://localhost:8080/",
     "height": 52
    },
    "colab_type": "code",
    "id": "i0ZowaDcYA6c",
    "outputId": "f50fb59d-a01a-461c-8873-14cd5fb2da03"
   },
   "outputs": [
    {
     "name": "stderr",
     "output_type": "stream",
     "text": [
      "/usr/local/lib/python3.6/dist-packages/numpy/lib/nanfunctions.py:1113: RuntimeWarning: Mean of empty slice\n",
      "  return np.nanmean(a, axis, out=out, keepdims=keepdims)\n"
     ]
    }
   ],
   "source": [
    "df_drie[\"LaatsteCijfer\"] = df_drie[\"LaatsteCijfer\"].replace(\"G.R.\", np.nan, inplace=True)\n",
    "df_drie[\"LaatsteCijfer\"] = df_drie[\"LaatsteCijfer\"].replace(' ', '', inplace=True)\n",
    "df_drie[\"LaatsteCijfer\"] = df_drie[\"LaatsteCijfer\"].replace(\",\", '.', inplace=True)\n",
    "\n",
    "df_drie[\"LaatsteCijfer\"] = df_drie[\"LaatsteCijfer\"].fillna(df_drie['LaatsteCijfer'].median())\n",
    "\n"
   ]
  },
  {
   "cell_type": "code",
   "execution_count": null,
   "metadata": {
    "colab": {
     "base_uri": "https://localhost:8080/",
     "height": 298
    },
    "colab_type": "code",
    "id": "klhUSEAcfDz0",
    "outputId": "81955f6b-00ee-4430-9f37-374443651666"
   },
   "outputs": [
    {
     "name": "stdout",
     "output_type": "stream",
     "text": [
      "       Naam                         Hobby  ...            Weer StudieRichting\n",
      "0      arya                       zwemmen  ...  beetje bewolkt            nan\n",
      "1     theon                         gamen  ...            saai            nan\n",
      "2    tyrion                       netflix  ...         bewolkt            nan\n",
      "3     jaime                         gamen  ...         bewolkt            nan\n",
      "4       jon                         kroeg  ...         prettig            nan\n",
      "5     roald   gamen, gitaar spelen, lezen  ...         bewolkt             se\n",
      "6    taariq                           gym  ...         bewolkt            ses\n",
      "7     james                        tennis  ...         bewolkt             se\n",
      "8      ludo                    computeren  ...         bewolkt             se\n",
      "9    jeroen                       netflix  ...         bewolkt             se\n",
      "10   thomas  gamen, sporten, muziekspelen  ...         bewolkt            ses\n",
      "11  youssef                         gamen  ...          zonnig             se\n",
      "12    megan                       netflix  ...         bewolkt             se\n",
      "\n",
      "[13 rows x 6 columns]\n"
     ]
    }
   ],
   "source": [
    "df_drie = df_drie.astype(str).apply(lambda x: x.str.lower())\n",
    "print(df_drie)"
   ]
  }
 ],
 "metadata": {
  "colab": {
   "collapsed_sections": [],
   "name": "ijsbreker.ipynb",
   "provenance": [],
   "toc_visible": true
  },
  "kernelspec": {
   "display_name": "Python 3",
   "language": "python",
   "name": "python3"
  },
  "language_info": {
   "codemirror_mode": {
    "name": "ipython",
    "version": 3
   },
   "file_extension": ".py",
   "mimetype": "text/x-python",
   "name": "python",
   "nbconvert_exporter": "python",
   "pygments_lexer": "ipython3",
   "version": "3.7.4"
  }
 },
 "nbformat": 4,
 "nbformat_minor": 1
}
