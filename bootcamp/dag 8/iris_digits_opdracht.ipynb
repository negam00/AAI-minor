{
 "cells": [
  {
   "cell_type": "markdown",
   "metadata": {},
   "source": [
    "We classificeren de iris data met behulp van een neuraal netwerk."
   ]
  },
  {
   "cell_type": "code",
   "execution_count": 1,
   "metadata": {},
   "outputs": [],
   "source": [
    "import numpy as np\n",
    "import pandas as pd\n",
    "from matplotlib import pyplot as plt\n",
    "import seaborn as sns\n",
    "from sklearn.model_selection import train_test_split\n",
    "from sklearn.preprocessing import OneHotEncoder\n",
    "\n",
    "import warnings\n",
    "warnings.filterwarnings('ignore')"
   ]
  },
  {
   "cell_type": "markdown",
   "metadata": {},
   "source": [
    "Laad de dataset en maak een feature matrix X en een target vector y."
   ]
  },
  {
   "cell_type": "code",
   "execution_count": 2,
   "metadata": {},
   "outputs": [],
   "source": [
    "iris = sns.load_dataset('iris')\n",
    "\n",
    "# we gebruiken .values om een Numpy array te krijgen in plaats van een Pandas DataFrame\n",
    "X_iris = iris.drop('species', axis=1).values \n",
    "y_iris = iris['species'].values"
   ]
  },
  {
   "cell_type": "code",
   "execution_count": 3,
   "metadata": {},
   "outputs": [
    {
     "name": "stdout",
     "output_type": "stream",
     "text": [
      "[['setosa']\n",
      " ['setosa']\n",
      " ['setosa']\n",
      " ['setosa']\n",
      " ['setosa']\n",
      " ['setosa']\n",
      " ['setosa']\n",
      " ['setosa']\n",
      " ['setosa']\n",
      " ['setosa']]\n"
     ]
    }
   ],
   "source": [
    "y_iris = y_iris.reshape(-1, 1) # maak een array van array's, dit is nodig voor de volgende stap\n",
    "print(y_iris[:10])"
   ]
  },
  {
   "cell_type": "markdown",
   "metadata": {},
   "source": [
    "Een neuraal netwerk kan niet omgaan met categorische labels zoals de namen van de planten, maar heeft getallen als uitput nodig. We hebben hier drie klassen (setosa, versicolor, virginica) daarom maken we een target vector met per label drie waarden. Een 1 voor de eerste waarde correspondeert met 'setosa', een 1 voor de 2e waade met 'versicolor' en een 1 voor de derde waarde met 'virginica'.\n",
    "Doe dit met behulp van het OneHotEncoder object uit sklearn. Hint: dit object werkt net als CountVectorizer maar dan op de labels in de target vector."
   ]
  },
  {
   "cell_type": "code",
   "execution_count": 4,
   "metadata": {},
   "outputs": [
    {
     "name": "stdout",
     "output_type": "stream",
     "text": [
      "[[1. 0. 0.]\n",
      " [1. 0. 0.]\n",
      " [1. 0. 0.]\n",
      " [1. 0. 0.]\n",
      " [1. 0. 0.]\n",
      " [1. 0. 0.]\n",
      " [1. 0. 0.]\n",
      " [1. 0. 0.]\n",
      " [1. 0. 0.]\n",
      " [1. 0. 0.]]\n"
     ]
    }
   ],
   "source": [
    "from sklearn.preprocessing import OneHotEncoder\n",
    "\n",
    "# One Hot encode de labels\n",
    "encoder = OneHotEncoder(sparse=False)\n",
    "y_encoded = encoder.fit_transform(y_iris)\n",
    "\n",
    "print(y_encoded[:10])"
   ]
  },
  {
   "cell_type": "markdown",
   "metadata": {},
   "source": [
    "We hebben de data nu in een geschikt formaat. Splits de data in `X_iris` en `y_encoded` in training en test data."
   ]
  },
  {
   "cell_type": "code",
   "execution_count": 5,
   "metadata": {},
   "outputs": [
    {
     "name": "stdout",
     "output_type": "stream",
     "text": [
      "(120, 4)\n",
      "(30, 4)\n",
      "(120, 3)\n",
      "(30, 3)\n"
     ]
    }
   ],
   "source": [
    "X_train, X_test, y_train, y_test = train_test_split(X_iris, y_encoded, test_size = 0.2, random_state = 42)\n",
    "\n",
    "print(X_train.shape)\n",
    "print(X_test.shape)\n",
    "\n",
    "print(y_train.shape)\n",
    "print(y_test.shape)"
   ]
  },
  {
   "cell_type": "markdown",
   "metadata": {},
   "source": [
    "Maak een eenvoudig neuraal netwerk met 3 lagen, waarin elke neuron in een laag met elk neuron in de vorige laag verbonden is ('Dense'). Voeg voor de eeste laag een parameter input_shape toe die aangeeft hoeveel features een element in 'X' heeft. Het aantal neuronen in de laaste laag is gelijk aan het aantal waarden in een label in y."
   ]
  },
  {
   "cell_type": "code",
   "execution_count": 6,
   "metadata": {},
   "outputs": [
    {
     "name": "stderr",
     "output_type": "stream",
     "text": [
      "Using TensorFlow backend.\n"
     ]
    },
    {
     "name": "stdout",
     "output_type": "stream",
     "text": [
      "WARNING:tensorflow:From /usr/local/lib/python3.7/site-packages/tensorflow_core/python/ops/resource_variable_ops.py:1630: calling BaseResourceVariable.__init__ (from tensorflow.python.ops.resource_variable_ops) with constraint is deprecated and will be removed in a future version.\n",
      "Instructions for updating:\n",
      "If using Keras pass *_constraint arguments to layers.\n"
     ]
    }
   ],
   "source": [
    "from keras.models import Sequential\n",
    "from keras.layers import Dense\n",
    "\n",
    "model = Sequential()\n",
    "\n",
    "model.add(Dense(4, input_shape = (4,), activation = 'relu'))\n",
    "model.add(Dense(3, activation = 'relu'))\n",
    "model.add(Dense(3, activation = 'softmax'))"
   ]
  },
  {
   "cell_type": "markdown",
   "metadata": {},
   "source": [
    "Compileer en bekijk het netwerk door onderstaande code te runnen."
   ]
  },
  {
   "cell_type": "code",
   "execution_count": 7,
   "metadata": {},
   "outputs": [
    {
     "name": "stdout",
     "output_type": "stream",
     "text": [
      "Model: \"sequential_1\"\n",
      "_________________________________________________________________\n",
      "Layer (type)                 Output Shape              Param #   \n",
      "=================================================================\n",
      "dense_1 (Dense)              (None, 4)                 20        \n",
      "_________________________________________________________________\n",
      "dense_2 (Dense)              (None, 3)                 15        \n",
      "_________________________________________________________________\n",
      "dense_3 (Dense)              (None, 3)                 12        \n",
      "=================================================================\n",
      "Total params: 47\n",
      "Trainable params: 47\n",
      "Non-trainable params: 0\n",
      "_________________________________________________________________\n"
     ]
    }
   ],
   "source": [
    "from keras.optimizers import Adam\n",
    "\n",
    "model.compile(Adam(lr=0.01),'categorical_crossentropy',metrics=['accuracy'])\n",
    "\n",
    "model.summary()"
   ]
  },
  {
   "cell_type": "markdown",
   "metadata": {},
   "source": [
    "Nu kunnen we ons model trainen met behulp van de `fit` methode."
   ]
  },
  {
   "cell_type": "code",
   "execution_count": 8,
   "metadata": {},
   "outputs": [
    {
     "name": "stdout",
     "output_type": "stream",
     "text": [
      "WARNING:tensorflow:From /usr/local/lib/python3.7/site-packages/keras/backend/tensorflow_backend.py:422: The name tf.global_variables is deprecated. Please use tf.compat.v1.global_variables instead.\n",
      "\n",
      "Epoch 1/25\n",
      "120/120 [==============================] - 0s 1ms/step - loss: 1.2492 - accuracy: 0.2667\n",
      "Epoch 2/25\n",
      "120/120 [==============================] - 0s 311us/step - loss: 1.0802 - accuracy: 0.4417\n",
      "Epoch 3/25\n",
      "120/120 [==============================] - 0s 289us/step - loss: 1.0455 - accuracy: 0.6250\n",
      "Epoch 4/25\n",
      "120/120 [==============================] - 0s 286us/step - loss: 0.9812 - accuracy: 0.6167\n",
      "Epoch 5/25\n",
      "120/120 [==============================] - 0s 273us/step - loss: 0.8860 - accuracy: 0.5750\n",
      "Epoch 6/25\n",
      "120/120 [==============================] - 0s 283us/step - loss: 0.7844 - accuracy: 0.5667\n",
      "Epoch 7/25\n",
      "120/120 [==============================] - 0s 292us/step - loss: 0.6384 - accuracy: 0.6667\n",
      "Epoch 8/25\n",
      "120/120 [==============================] - 0s 240us/step - loss: 0.5586 - accuracy: 0.6500\n",
      "Epoch 9/25\n",
      "120/120 [==============================] - 0s 254us/step - loss: 0.5125 - accuracy: 0.6667\n",
      "Epoch 10/25\n",
      "120/120 [==============================] - 0s 272us/step - loss: 0.4896 - accuracy: 0.7000\n",
      "Epoch 11/25\n",
      "120/120 [==============================] - 0s 288us/step - loss: 0.4775 - accuracy: 0.6833\n",
      "Epoch 12/25\n",
      "120/120 [==============================] - 0s 245us/step - loss: 0.4746 - accuracy: 0.6833\n",
      "Epoch 13/25\n",
      "120/120 [==============================] - 0s 234us/step - loss: 0.4760 - accuracy: 0.6833\n",
      "Epoch 14/25\n",
      "120/120 [==============================] - 0s 280us/step - loss: 0.4552 - accuracy: 0.7333\n",
      "Epoch 15/25\n",
      "120/120 [==============================] - 0s 297us/step - loss: 0.4557 - accuracy: 0.6917\n",
      "Epoch 16/25\n",
      "120/120 [==============================] - 0s 251us/step - loss: 0.4448 - accuracy: 0.8000\n",
      "Epoch 17/25\n",
      "120/120 [==============================] - 0s 234us/step - loss: 0.4571 - accuracy: 0.7167\n",
      "Epoch 18/25\n",
      "120/120 [==============================] - 0s 279us/step - loss: 0.4539 - accuracy: 0.7083\n",
      "Epoch 19/25\n",
      "120/120 [==============================] - 0s 266us/step - loss: 0.4439 - accuracy: 0.7750\n",
      "Epoch 20/25\n",
      "120/120 [==============================] - 0s 282us/step - loss: 0.4390 - accuracy: 0.7667\n",
      "Epoch 21/25\n",
      "120/120 [==============================] - 0s 284us/step - loss: 0.4349 - accuracy: 0.7667\n",
      "Epoch 22/25\n",
      "120/120 [==============================] - 0s 262us/step - loss: 0.4378 - accuracy: 0.7417\n",
      "Epoch 23/25\n",
      "120/120 [==============================] - 0s 259us/step - loss: 0.4199 - accuracy: 0.8583\n",
      "Epoch 24/25\n",
      "120/120 [==============================] - 0s 287us/step - loss: 0.4155 - accuracy: 0.7583\n",
      "Epoch 25/25\n",
      "120/120 [==============================] - 0s 295us/step - loss: 0.4108 - accuracy: 0.8417\n"
     ]
    },
    {
     "data": {
      "text/plain": [
       "<keras.callbacks.callbacks.History at 0x140a95490>"
      ]
     },
     "execution_count": 8,
     "metadata": {},
     "output_type": "execute_result"
    }
   ],
   "source": [
    "model.fit(X_train, y_train, epochs = 25, batch_size = 5)"
   ]
  },
  {
   "cell_type": "markdown",
   "metadata": {},
   "source": [
    "Met `model_evaluate` kunnen we bepalen hoe goed het model werkt op de test data."
   ]
  },
  {
   "cell_type": "code",
   "execution_count": 9,
   "metadata": {},
   "outputs": [
    {
     "name": "stdout",
     "output_type": "stream",
     "text": [
      "30/30 [==============================] - 0s 1ms/step\n",
      "0.8666666746139526\n"
     ]
    }
   ],
   "source": [
    "test_loss, test_acc = model.evaluate(X_test, y_test)\n",
    "print(test_acc)"
   ]
  },
  {
   "cell_type": "markdown",
   "metadata": {},
   "source": [
    "Experimenteer met bovenstaand model. Wat gebeurt er als je meer lagen toevoegt of een laag weghaalt of het aantal neuronen in een laag verandert? \n",
    "\n",
    "Probeer ook eens andere activatiefuncties dan `relu`, zoals `tanh` of `sigmoid`.\n",
    "\n",
    "Welke invloed heeft het aantal epochs?"
   ]
  },
  {
   "cell_type": "code",
   "execution_count": 10,
   "metadata": {},
   "outputs": [
    {
     "name": "stdout",
     "output_type": "stream",
     "text": [
      "Model: \"sequential_2\"\n",
      "_________________________________________________________________\n",
      "Layer (type)                 Output Shape              Param #   \n",
      "=================================================================\n",
      "dense_4 (Dense)              (None, 10)                50        \n",
      "_________________________________________________________________\n",
      "dense_5 (Dense)              (None, 8)                 88        \n",
      "_________________________________________________________________\n",
      "dense_6 (Dense)              (None, 3)                 27        \n",
      "=================================================================\n",
      "Total params: 165\n",
      "Trainable params: 165\n",
      "Non-trainable params: 0\n",
      "_________________________________________________________________\n"
     ]
    }
   ],
   "source": [
    "# bijvoorbeeld (voor een flink slechter resultaat)\n",
    "model = Sequential()\n",
    "\n",
    "model.add(Dense(10, input_shape = (4,), activation = 'relu'))\n",
    "model.add(Dense(8, activation = 'relu'))\n",
    "model.add(Dense(3, activation = 'sigmoid'))\n",
    "\n",
    "\n",
    "model.compile(Adam(lr=0.01),'categorical_crossentropy',metrics=['accuracy'])\n",
    "\n",
    "model.summary()"
   ]
  },
  {
   "cell_type": "code",
   "execution_count": 11,
   "metadata": {},
   "outputs": [
    {
     "name": "stdout",
     "output_type": "stream",
     "text": [
      "WARNING:tensorflow:From /usr/local/lib/python3.7/site-packages/tensorflow_core/python/ops/math_grad.py:1424: where (from tensorflow.python.ops.array_ops) is deprecated and will be removed in a future version.\n",
      "Instructions for updating:\n",
      "Use tf.where in 2.0, which has the same broadcast rule as np.where\n",
      "Epoch 1/25\n",
      "120/120 [==============================] - 0s 1ms/step - loss: 0.9864 - accuracy: 0.4833\n",
      "Epoch 2/25\n",
      "120/120 [==============================] - 0s 356us/step - loss: 0.6851 - accuracy: 0.6583\n",
      "Epoch 3/25\n",
      "120/120 [==============================] - 0s 317us/step - loss: 0.4680 - accuracy: 0.6750\n",
      "Epoch 4/25\n",
      "120/120 [==============================] - 0s 294us/step - loss: 0.3882 - accuracy: 0.6750\n",
      "Epoch 5/25\n",
      "120/120 [==============================] - 0s 333us/step - loss: 0.3470 - accuracy: 0.6750\n",
      "Epoch 6/25\n",
      "120/120 [==============================] - 0s 311us/step - loss: 0.3539 - accuracy: 0.6750\n",
      "Epoch 7/25\n",
      "120/120 [==============================] - 0s 296us/step - loss: 0.3234 - accuracy: 0.6750\n",
      "Epoch 8/25\n",
      "120/120 [==============================] - 0s 292us/step - loss: 0.2983 - accuracy: 0.6750\n",
      "Epoch 9/25\n",
      "120/120 [==============================] - 0s 306us/step - loss: 0.3075 - accuracy: 0.6833\n",
      "Epoch 10/25\n",
      "120/120 [==============================] - 0s 312us/step - loss: 0.3121 - accuracy: 0.7333\n",
      "Epoch 11/25\n",
      "120/120 [==============================] - 0s 314us/step - loss: 0.3478 - accuracy: 0.7917\n",
      "Epoch 12/25\n",
      "120/120 [==============================] - 0s 319us/step - loss: 0.3201 - accuracy: 0.7250\n",
      "Epoch 13/25\n",
      "120/120 [==============================] - 0s 304us/step - loss: 0.2769 - accuracy: 0.6917\n",
      "Epoch 14/25\n",
      "120/120 [==============================] - 0s 302us/step - loss: 0.2887 - accuracy: 0.7167\n",
      "Epoch 15/25\n",
      "120/120 [==============================] - 0s 323us/step - loss: 0.3026 - accuracy: 0.7917\n",
      "Epoch 16/25\n",
      "120/120 [==============================] - 0s 326us/step - loss: 0.3717 - accuracy: 0.8333\n",
      "Epoch 17/25\n",
      "120/120 [==============================] - 0s 333us/step - loss: 0.2670 - accuracy: 0.7667\n",
      "Epoch 18/25\n",
      "120/120 [==============================] - 0s 299us/step - loss: 0.2885 - accuracy: 0.7417\n",
      "Epoch 19/25\n",
      "120/120 [==============================] - 0s 311us/step - loss: 0.2912 - accuracy: 0.7667\n",
      "Epoch 20/25\n",
      "120/120 [==============================] - 0s 316us/step - loss: 0.2963 - accuracy: 0.8083\n",
      "Epoch 21/25\n",
      "120/120 [==============================] - 0s 303us/step - loss: 0.2755 - accuracy: 0.8250\n",
      "Epoch 22/25\n",
      "120/120 [==============================] - 0s 319us/step - loss: 0.2679 - accuracy: 0.7833\n",
      "Epoch 23/25\n",
      "120/120 [==============================] - 0s 307us/step - loss: 0.2744 - accuracy: 0.8500\n",
      "Epoch 24/25\n",
      "120/120 [==============================] - 0s 305us/step - loss: 0.2619 - accuracy: 0.8583\n",
      "Epoch 25/25\n",
      "120/120 [==============================] - 0s 310us/step - loss: 0.2619 - accuracy: 0.8750\n",
      "30/30 [==============================] - 0s 1ms/step\n",
      "0.8999999761581421\n"
     ]
    }
   ],
   "source": [
    "model.fit(X_train, y_train, epochs = 25, batch_size = 5)\n",
    "\n",
    "test_loss, test_acc = model.evaluate(X_test, y_test)\n",
    "print(test_acc)"
   ]
  },
  {
   "cell_type": "markdown",
   "metadata": {},
   "source": [
    "We kunnen dezelfde aanpak gebruiken voor andere data, bijvoorbeeld voor het herkennen van cijfers. We gebruiken de MNist dataset die bestaat uit plaatjes van cijfers. Ieder plaatje bestaat uit 28 x 28 pixels."
   ]
  },
  {
   "cell_type": "code",
   "execution_count": 12,
   "metadata": {},
   "outputs": [],
   "source": [
    "from keras.datasets import mnist\n",
    "\n",
    "(train_images, train_labels), (test_images, test_labels) = mnist.load_data()\n",
    "\n",
    "import warnings\n",
    "warnings.filterwarnings('ignore')"
   ]
  },
  {
   "cell_type": "code",
   "execution_count": 13,
   "metadata": {},
   "outputs": [
    {
     "data": {
      "text/plain": [
       "(60000, 28, 28)"
      ]
     },
     "execution_count": 13,
     "metadata": {},
     "output_type": "execute_result"
    }
   ],
   "source": [
    "train_images.shape"
   ]
  },
  {
   "cell_type": "code",
   "execution_count": 14,
   "metadata": {},
   "outputs": [
    {
     "data": {
      "text/plain": [
       "60000"
      ]
     },
     "execution_count": 14,
     "metadata": {},
     "output_type": "execute_result"
    }
   ],
   "source": [
    "len(train_labels)"
   ]
  },
  {
   "cell_type": "code",
   "execution_count": 15,
   "metadata": {},
   "outputs": [
    {
     "name": "stdout",
     "output_type": "stream",
     "text": [
      "[5 0 4 ... 5 6 8]\n"
     ]
    }
   ],
   "source": [
    "print(train_labels)"
   ]
  },
  {
   "cell_type": "markdown",
   "metadata": {},
   "source": [
    "Een eenvoudig neuraal netwerk heeft een array van input waarden nodig i.p.v. een 2D afbeelding.\n",
    "We maken van de inputs (waarden tussen 0 en 255) getallen tussen 0 en 1."
   ]
  },
  {
   "cell_type": "code",
   "execution_count": 16,
   "metadata": {},
   "outputs": [],
   "source": [
    "train_images = train_images.reshape((60000, 28 * 28)) # lijst van waarden i.p.v. 2D afbeelding\n",
    "train_images = train_images.astype('float32') / 255 # getallen tussen 0 en 1\n",
    "\n",
    "test_images = test_images.reshape((10000, 28 * 28))\n",
    "test_images = test_images.astype('float32') / 255"
   ]
  },
  {
   "cell_type": "markdown",
   "metadata": {},
   "source": [
    "Voor elk cijfer in de input data maken we een array met 10 waarden, 9 nullen en een één, waarbij de positie van de één aangeeft om welk cijfer het gaat (One hot encoding)"
   ]
  },
  {
   "cell_type": "code",
   "execution_count": 17,
   "metadata": {},
   "outputs": [
    {
     "name": "stdout",
     "output_type": "stream",
     "text": [
      "[[0. 0. 0. ... 0. 0. 0.]\n",
      " [1. 0. 0. ... 0. 0. 0.]\n",
      " [0. 0. 0. ... 0. 0. 0.]\n",
      " ...\n",
      " [0. 0. 0. ... 0. 0. 0.]\n",
      " [0. 0. 0. ... 0. 0. 0.]\n",
      " [0. 0. 0. ... 0. 1. 0.]]\n"
     ]
    }
   ],
   "source": [
    "from keras.utils import to_categorical\n",
    "\n",
    "train_labels = to_categorical(train_labels)\n",
    "test_labels = to_categorical(test_labels)\n",
    "\n",
    "print(train_labels)"
   ]
  },
  {
   "cell_type": "markdown",
   "metadata": {},
   "source": [
    "Maak nu een neuraal netwerk met twee lagen, een eerste laag met 512 neuronen en een output laag met 10 neuronen. Geef bij de eerste laag aan hoeveel inputs er zijn en wat de activatiefunctie is. De output laag heeft een `softmax` activatiefunctie."
   ]
  },
  {
   "cell_type": "code",
   "execution_count": 18,
   "metadata": {},
   "outputs": [],
   "source": [
    "from keras import models\n",
    "from keras import layers\n",
    "\n",
    "network = models.Sequential()\n",
    "network.add(layers.Dense(512, activation = 'relu', input_shape= (28 * 28, )))\n",
    "network.add(layers.Dense(10, activation = 'softmax'))"
   ]
  },
  {
   "cell_type": "markdown",
   "metadata": {},
   "source": [
    "compileer het netwerk."
   ]
  },
  {
   "cell_type": "code",
   "execution_count": 19,
   "metadata": {},
   "outputs": [],
   "source": [
    "network.compile(optimizer = 'rmsprop',\n",
    "                loss = 'categorical_crossentropy',\n",
    "                metrics = ['accuracy'])"
   ]
  },
  {
   "cell_type": "markdown",
   "metadata": {},
   "source": [
    "train het netwerk 5 epochs met een batch_size van 128."
   ]
  },
  {
   "cell_type": "code",
   "execution_count": 20,
   "metadata": {},
   "outputs": [
    {
     "name": "stdout",
     "output_type": "stream",
     "text": [
      "Epoch 1/5\n",
      "60000/60000 [==============================] - 2s 34us/step - loss: 0.2538 - accuracy: 0.9269\n",
      "Epoch 2/5\n",
      "60000/60000 [==============================] - 2s 34us/step - loss: 0.1042 - accuracy: 0.9690\n",
      "Epoch 3/5\n",
      "60000/60000 [==============================] - 2s 38us/step - loss: 0.0678 - accuracy: 0.9792\n",
      "Epoch 4/5\n",
      "60000/60000 [==============================] - 2s 35us/step - loss: 0.0495 - accuracy: 0.9851\n",
      "Epoch 5/5\n",
      "60000/60000 [==============================] - 2s 35us/step - loss: 0.0377 - accuracy: 0.9890\n"
     ]
    },
    {
     "data": {
      "text/plain": [
       "<keras.callbacks.callbacks.History at 0x141396990>"
      ]
     },
     "execution_count": 20,
     "metadata": {},
     "output_type": "execute_result"
    }
   ],
   "source": [
    "network.fit(train_images, train_labels, epochs = 5, batch_size = 128)"
   ]
  },
  {
   "cell_type": "markdown",
   "metadata": {},
   "source": [
    "Evalueer het netwerk op de test set."
   ]
  },
  {
   "cell_type": "code",
   "execution_count": 21,
   "metadata": {},
   "outputs": [
    {
     "name": "stdout",
     "output_type": "stream",
     "text": [
      "10000/10000 [==============================] - 0s 33us/step\n",
      "0.9796000123023987\n"
     ]
    }
   ],
   "source": [
    "test_loss, test_acc = network.evaluate(test_images, test_labels)\n",
    "print(test_acc)"
   ]
  },
  {
   "cell_type": "markdown",
   "metadata": {},
   "source": [
    "Experimenteer met verschillende netwerken. Varieer het aantal lagen, het aantal neuronen, de activatiefunties en het aantal epochs."
   ]
  },
  {
   "cell_type": "code",
   "execution_count": 22,
   "metadata": {},
   "outputs": [
    {
     "name": "stdout",
     "output_type": "stream",
     "text": [
      "Epoch 1/5\n",
      "60000/60000 [==============================] - 3s 48us/step - loss: 1.8908 - accuracy: 0.6499\n",
      "Epoch 2/5\n",
      "60000/60000 [==============================] - 3s 49us/step - loss: 1.3342 - accuracy: 0.6862\n",
      "Epoch 3/5\n",
      "60000/60000 [==============================] - 3s 43us/step - loss: 0.9417 - accuracy: 0.6933\n",
      "Epoch 4/5\n",
      "60000/60000 [==============================] - 3s 43us/step - loss: 0.7109 - accuracy: 0.6988\n",
      "Epoch 5/5\n",
      "60000/60000 [==============================] - 3s 44us/step - loss: 0.5910 - accuracy: 0.7039\n"
     ]
    },
    {
     "data": {
      "text/plain": [
       "<keras.callbacks.callbacks.History at 0x1413ed590>"
      ]
     },
     "execution_count": 22,
     "metadata": {},
     "output_type": "execute_result"
    }
   ],
   "source": [
    "network = models.Sequential()\n",
    "network.add(layers.Dense(512, activation = 'relu', input_shape= (28 * 28, )))\n",
    "network.add(layers.Dense(256, activation = 'softmax'))\n",
    "network.add(layers.Dense(10, activation = 'softmax'))\n",
    "\n",
    "network.compile(optimizer = 'rmsprop',\n",
    "                loss = 'categorical_crossentropy',\n",
    "                metrics = ['accuracy'])\n",
    "\n",
    "network.fit(train_images, train_labels, epochs = 5, batch_size = 128)"
   ]
  },
  {
   "cell_type": "code",
   "execution_count": 23,
   "metadata": {},
   "outputs": [
    {
     "name": "stdout",
     "output_type": "stream",
     "text": [
      "10000/10000 [==============================] - 0s 44us/step\n",
      "0.7003999948501587\n"
     ]
    }
   ],
   "source": [
    "test_loss, test_acc = network.evaluate(test_images, test_labels)\n",
    "print(test_acc)"
   ]
  },
  {
   "cell_type": "code",
   "execution_count": 24,
   "metadata": {},
   "outputs": [
    {
     "name": "stdout",
     "output_type": "stream",
     "text": [
      "Epoch 1/7\n",
      "60000/60000 [==============================] - 2s 30us/step - loss: 0.2751 - accuracy: 0.9226\n",
      "Epoch 2/7\n",
      "60000/60000 [==============================] - 2s 28us/step - loss: 0.1197 - accuracy: 0.9650\n",
      "Epoch 3/7\n",
      "60000/60000 [==============================] - 2s 29us/step - loss: 0.0815 - accuracy: 0.9765\n",
      "Epoch 4/7\n",
      "60000/60000 [==============================] - 2s 27us/step - loss: 0.0612 - accuracy: 0.9822\n",
      "Epoch 5/7\n",
      "60000/60000 [==============================] - 2s 26us/step - loss: 0.0488 - accuracy: 0.9858\n",
      "Epoch 6/7\n",
      "60000/60000 [==============================] - 2s 27us/step - loss: 0.0386 - accuracy: 0.9883\n",
      "Epoch 7/7\n",
      "60000/60000 [==============================] - 2s 27us/step - loss: 0.0316 - accuracy: 0.9904\n"
     ]
    },
    {
     "data": {
      "text/plain": [
       "<keras.callbacks.callbacks.History at 0x1413af3d0>"
      ]
     },
     "execution_count": 24,
     "metadata": {},
     "output_type": "execute_result"
    }
   ],
   "source": [
    "network = models.Sequential()\n",
    "network.add(layers.Dense(256, activation = 'relu', input_shape= (28 * 28, )))\n",
    "network.add(layers.Dense(10, activation = 'softmax'))\n",
    "\n",
    "network.compile(optimizer = 'rmsprop',\n",
    "                loss = 'categorical_crossentropy',\n",
    "                metrics = ['accuracy'])\n",
    "\n",
    "network.fit(train_images, train_labels, epochs = 7, batch_size = 100)"
   ]
  },
  {
   "cell_type": "code",
   "execution_count": 25,
   "metadata": {},
   "outputs": [
    {
     "name": "stdout",
     "output_type": "stream",
     "text": [
      "10000/10000 [==============================] - 0s 34us/step\n",
      "0.9764000177383423\n"
     ]
    }
   ],
   "source": [
    "test_loss, test_acc = network.evaluate(test_images, test_labels)\n",
    "print(test_acc)"
   ]
  },
  {
   "cell_type": "code",
   "execution_count": null,
   "metadata": {},
   "outputs": [],
   "source": []
  }
 ],
 "metadata": {
  "kernelspec": {
   "display_name": "Python 3",
   "language": "python",
   "name": "python3"
  },
  "language_info": {
   "codemirror_mode": {
    "name": "ipython",
    "version": 3
   },
   "file_extension": ".py",
   "mimetype": "text/x-python",
   "name": "python",
   "nbconvert_exporter": "python",
   "pygments_lexer": "ipython3",
   "version": "3.7.4"
  }
 },
 "nbformat": 4,
 "nbformat_minor": 2
}
