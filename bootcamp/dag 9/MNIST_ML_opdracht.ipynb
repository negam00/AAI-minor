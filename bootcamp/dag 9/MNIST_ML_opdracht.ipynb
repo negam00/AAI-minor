{
  "nbformat": 4,
  "nbformat_minor": 0,
  "metadata": {
    "kernelspec": {
      "display_name": "Python 3",
      "language": "python",
      "name": "python3"
    },
    "language_info": {
      "codemirror_mode": {
        "name": "ipython",
        "version": 3
      },
      "file_extension": ".py",
      "mimetype": "text/x-python",
      "name": "python",
      "nbconvert_exporter": "python",
      "pygments_lexer": "ipython3",
      "version": "3.7.9-final"
    },
    "colab": {
      "name": "MNIST_ML_opdracht.ipynb",
      "provenance": [],
      "collapsed_sections": []
    }
  },
  "cells": [
    {
      "cell_type": "markdown",
      "metadata": {
        "id": "kaODKh9fy7by",
        "colab_type": "text"
      },
      "source": [
        "# Herkenning van handgeschreven cijfers\n",
        "\n",
        "## Stijn Oomes\n",
        "\n",
        "10 september 2020\n"
      ]
    },
    {
      "cell_type": "markdown",
      "metadata": {
        "id": "K044LdPKy7bz",
        "colab_type": "text"
      },
      "source": [
        "## Importeer libraries"
      ]
    },
    {
      "cell_type": "code",
      "metadata": {
        "id": "gsDgWzuay7b0",
        "colab_type": "code",
        "colab": {}
      },
      "source": [
        "import numpy as np\n",
        "import cv2 as cv\n",
        "from matplotlib import pyplot as plt\n",
        "from sklearn.metrics import confusion_matrix\n",
        "\n",
        "from keras.datasets import mnist"
      ],
      "execution_count": null,
      "outputs": []
    },
    {
      "cell_type": "markdown",
      "metadata": {
        "id": "G_gpggBey7b2",
        "colab_type": "text"
      },
      "source": [
        "## Importeer en toon data"
      ]
    },
    {
      "cell_type": "code",
      "metadata": {
        "id": "PXDwrkhFy7b3",
        "colab_type": "code",
        "colab": {}
      },
      "source": [
        "# img = cv.imread('digits.png')\n",
        "# gray = cv.cvtColor(img,cv.COLOR_BGR2GRAY)\n",
        "\n",
        "# plt.figure(figsize=(18,12))\n",
        "# plt.imshow(img.max() - img);\n",
        "# plt.axis('off');\n",
        "\n",
        "# print(img.shape)\n",
        "\n",
        "# (X_train_images, y_train_labels),(X_test_images, y_test_labels) = mnist.load_data()\n",
        "\n",
        "(X_train, y_train),(X_test, y_test) = mnist.load_data()\n",
        "X_train = X_train.reshape(len(X_train),28*28).astype('float32')\n",
        "y_train = y_train.astype('float32')\n",
        "X_test = X_test.reshape(len(X_test),28*28).astype('float32')\n",
        "y_test = y_test.astype('float32')"
      ],
      "execution_count": null,
      "outputs": []
    },
    {
      "cell_type": "code",
      "metadata": {
        "id": "mfF1NYn3TlXk",
        "colab_type": "code",
        "colab": {
          "base_uri": "https://localhost:8080/",
          "height": 34
        },
        "outputId": "a07fd031-62e5-4ae4-a7a6-81056408d29e"
      },
      "source": [
        "X_train_images.shape"
      ],
      "execution_count": null,
      "outputs": [
        {
          "output_type": "execute_result",
          "data": {
            "text/plain": [
              "(60000, 28, 28)"
            ]
          },
          "metadata": {
            "tags": []
          },
          "execution_count": 3
        }
      ]
    },
    {
      "cell_type": "code",
      "metadata": {
        "id": "dwzcvcfKTvt0",
        "colab_type": "code",
        "colab": {
          "base_uri": "https://localhost:8080/",
          "height": 34
        },
        "outputId": "54cf1544-4a9e-472a-9888-4c7e1b6d7a18"
      },
      "source": [
        "X_test_images.shape"
      ],
      "execution_count": null,
      "outputs": [
        {
          "output_type": "execute_result",
          "data": {
            "text/plain": [
              "(10000, 28, 28)"
            ]
          },
          "metadata": {
            "tags": []
          },
          "execution_count": 4
        }
      ]
    },
    {
      "cell_type": "code",
      "metadata": {
        "id": "K5KEbj8cT7fR",
        "colab_type": "code",
        "colab": {
          "base_uri": "https://localhost:8080/",
          "height": 34
        },
        "outputId": "3f6e8bdc-62a7-4d45-8548-96292fb4516d"
      },
      "source": [
        "type(y_train_labels)"
      ],
      "execution_count": null,
      "outputs": [
        {
          "output_type": "execute_result",
          "data": {
            "text/plain": [
              "numpy.ndarray"
            ]
          },
          "metadata": {
            "tags": []
          },
          "execution_count": 5
        }
      ]
    },
    {
      "cell_type": "code",
      "metadata": {
        "id": "fIBXvDKoT7Th",
        "colab_type": "code",
        "colab": {
          "base_uri": "https://localhost:8080/",
          "height": 34
        },
        "outputId": "9274e6f4-cf63-4a7b-e5ff-c21e8d6332f1"
      },
      "source": [
        "y_test_labels"
      ],
      "execution_count": null,
      "outputs": [
        {
          "output_type": "execute_result",
          "data": {
            "text/plain": [
              "array([7, 2, 1, ..., 4, 5, 6], dtype=uint8)"
            ]
          },
          "metadata": {
            "tags": []
          },
          "execution_count": 6
        }
      ]
    },
    {
      "cell_type": "markdown",
      "metadata": {
        "id": "n23AZTg1y7b5",
        "colab_type": "text"
      },
      "source": [
        "## Split afbeelding in aparte cellen"
      ]
    },
    {
      "cell_type": "code",
      "metadata": {
        "scrolled": true,
        "id": "knoUDuE1y7b6",
        "colab_type": "code",
        "colab": {}
      },
      "source": [
        "# cells = [np.hsplit(row,100) for row in np.vsplit(gray,50)]\n",
        "# x = np.array(cells)\n",
        "\n",
        "# print(x.shape)"
      ],
      "execution_count": null,
      "outputs": []
    },
    {
      "cell_type": "markdown",
      "metadata": {
        "id": "kTk8XNQTy7b8",
        "colab_type": "text"
      },
      "source": [
        "## Toon 12 random cijfers"
      ]
    },
    {
      "cell_type": "code",
      "metadata": {
        "id": "AqaG81Xoy7b9",
        "colab_type": "code",
        "colab": {
          "base_uri": "https://localhost:8080/",
          "height": 236
        },
        "outputId": "c124ce34-c3d6-4f47-a5b2-eaeee32b99de"
      },
      "source": [
        "# for sub in range(1, 13):\n",
        "#         plt.subplot(3,4, sub)\n",
        "#         i = np.random.randint(50)\n",
        "#         j = np.random.randint(100)\n",
        "#         plt.axis(\"off\")\n",
        "#         plt.imshow(255 - x[i][j], cmap='gray')\n",
        "#         number = np.floor(i/5).astype(int)\n",
        "#         plt.title('%i' % number);\n",
        "\n",
        "\n",
        "\n",
        "for sub in range(1, 25):\n",
        "        plt.subplot(3,8, sub)\n",
        "        i = np.random.randint(60000)\n",
        "        plt.axis(\"off\")\n",
        "        plt.imshow(255 - X_train_images[i], cmap='gray')\n",
        "        plt.title(y_train_labels[i]);"
      ],
      "execution_count": null,
      "outputs": [
        {
          "output_type": "display_data",
          "data": {
            "image/png": "[encoded data removed]",
            "text/plain": [
              "<Figure size 432x288 with 24 Axes>"
            ]
          },
          "metadata": {
            "tags": [],
            "needs_background": "light"
          }
        }
      ]
    },
    {
      "cell_type": "markdown",
      "metadata": {
        "id": "BBMwn5Jey7b_",
        "colab_type": "text"
      },
      "source": [
        "## Maak aparte training en testing sets"
      ]
    },
    {
      "cell_type": "code",
      "metadata": {
        "id": "1hWZn8q5y7b_",
        "colab_type": "code",
        "colab": {}
      },
      "source": [
        "# train = x[:,:50].reshape(-1,400).astype(np.float32)\n",
        "# test = x[:,50:100].reshape(-1,400).astype(np.float32)\n",
        "\n",
        "# print(train.shape)\n",
        "# print(test.shape)"
      ],
      "execution_count": null,
      "outputs": []
    },
    {
      "cell_type": "markdown",
      "metadata": {
        "id": "5EnI1MLTy7cB",
        "colab_type": "text"
      },
      "source": [
        "## Maak labels voor training en testing sets"
      ]
    },
    {
      "cell_type": "code",
      "metadata": {
        "id": "2E3hHunDy7cC",
        "colab_type": "code",
        "colab": {}
      },
      "source": [
        "# k = np.arange(10)\n",
        "# train_labels = np.repeat(k,250)[:,np.newaxis]\n",
        "# test_labels = train_labels.copy()\n",
        "\n",
        "# print(train_labels.shape)\n",
        "# print(test_labels.shape)"
      ],
      "execution_count": null,
      "outputs": []
    },
    {
      "cell_type": "markdown",
      "metadata": {
        "id": "nHtqg2rpy7cE",
        "colab_type": "text"
      },
      "source": [
        "## Train het model op de training set"
      ]
    },
    {
      "cell_type": "code",
      "metadata": {
        "id": "izhAx0pRxLH9",
        "colab_type": "code",
        "colab": {
          "base_uri": "https://localhost:8080/",
          "height": 34
        },
        "outputId": "681f4fe0-6226-4110-9768-6f4893cf609d"
      },
      "source": [
        "X_train_images.shape"
      ],
      "execution_count": null,
      "outputs": [
        {
          "output_type": "execute_result",
          "data": {
            "text/plain": [
              "(60000, 28, 28)"
            ]
          },
          "metadata": {
            "tags": []
          },
          "execution_count": 11
        }
      ]
    },
    {
      "cell_type": "code",
      "metadata": {
        "id": "07UIRJtpVuVi",
        "colab_type": "code",
        "colab": {}
      },
      "source": [
        "X_train_rawdata = X_train_images.reshape(60000,28*28)\n",
        "X_test_rawdata = X_test_images.reshape(10000,28*28)"
      ],
      "execution_count": null,
      "outputs": []
    },
    {
      "cell_type": "code",
      "metadata": {
        "id": "ODKlw5IGXG0F",
        "colab_type": "code",
        "colab": {
          "base_uri": "https://localhost:8080/",
          "height": 34
        },
        "outputId": "e4c4bb7e-21e5-4787-dd4a-62eae698e571"
      },
      "source": [
        "type(X_train_rawdata[0][0])"
      ],
      "execution_count": null,
      "outputs": [
        {
          "output_type": "execute_result",
          "data": {
            "text/plain": [
              "numpy.uint8"
            ]
          },
          "metadata": {
            "tags": []
          },
          "execution_count": 13
        }
      ]
    },
    {
      "cell_type": "code",
      "metadata": {
        "id": "_8XhKlfsXPD_",
        "colab_type": "code",
        "colab": {}
      },
      "source": [
        "X_train_data = X_train_rawdata.astype('float32')\n",
        "X_test_data = X_train_rawdata.astype('float32')"
      ],
      "execution_count": null,
      "outputs": []
    },
    {
      "cell_type": "code",
      "metadata": {
        "id": "QILii58bXY8V",
        "colab_type": "code",
        "colab": {
          "base_uri": "https://localhost:8080/",
          "height": 34
        },
        "outputId": "d8cb0a40-aa4e-4ac7-ff54-ae23b111125f"
      },
      "source": [
        "type(X_train_data[0][0])"
      ],
      "execution_count": null,
      "outputs": [
        {
          "output_type": "execute_result",
          "data": {
            "text/plain": [
              "numpy.float32"
            ]
          },
          "metadata": {
            "tags": []
          },
          "execution_count": 15
        }
      ]
    },
    {
      "cell_type": "code",
      "metadata": {
        "id": "xRJtJpySWKfr",
        "colab_type": "code",
        "colab": {
          "base_uri": "https://localhost:8080/",
          "height": 34
        },
        "outputId": "ce5280b6-988c-45c2-af86-18062ceb8b14"
      },
      "source": [
        "X_train_rawdata.shape"
      ],
      "execution_count": null,
      "outputs": [
        {
          "output_type": "execute_result",
          "data": {
            "text/plain": [
              "(60000, 784)"
            ]
          },
          "metadata": {
            "tags": []
          },
          "execution_count": 16
        }
      ]
    },
    {
      "cell_type": "code",
      "metadata": {
        "id": "LYmd4kbMxWGj",
        "colab_type": "code",
        "colab": {
          "base_uri": "https://localhost:8080/",
          "height": 34
        },
        "outputId": "674607c8-6e9e-495f-eef4-8391c8d09d41"
      },
      "source": [
        "y_train_labels.shape"
      ],
      "execution_count": null,
      "outputs": [
        {
          "output_type": "execute_result",
          "data": {
            "text/plain": [
              "(60000,)"
            ]
          },
          "metadata": {
            "tags": []
          },
          "execution_count": 17
        }
      ]
    },
    {
      "cell_type": "code",
      "metadata": {
        "id": "xiDI2gFeXzhl",
        "colab_type": "code",
        "colab": {
          "base_uri": "https://localhost:8080/",
          "height": 34
        },
        "outputId": "208978d5-9def-41f8-d593-d9fab1484657"
      },
      "source": [
        "type(y_train_labels[0])"
      ],
      "execution_count": null,
      "outputs": [
        {
          "output_type": "execute_result",
          "data": {
            "text/plain": [
              "numpy.uint8"
            ]
          },
          "metadata": {
            "tags": []
          },
          "execution_count": 18
        }
      ]
    },
    {
      "cell_type": "code",
      "metadata": {
        "id": "0q0xwRrTYj_r",
        "colab_type": "code",
        "colab": {}
      },
      "source": [
        "y_train_labels_plus = y_train_labels.reshape(60000,1)"
      ],
      "execution_count": null,
      "outputs": []
    },
    {
      "cell_type": "code",
      "metadata": {
        "id": "gxnyNqK5ZjNU",
        "colab_type": "code",
        "colab": {
          "base_uri": "https://localhost:8080/",
          "height": 34
        },
        "outputId": "1896a781-020b-4afe-b6ba-a27ab6691894"
      },
      "source": [
        "y_train_labels_plus.shape"
      ],
      "execution_count": null,
      "outputs": [
        {
          "output_type": "execute_result",
          "data": {
            "text/plain": [
              "(60000, 1)"
            ]
          },
          "metadata": {
            "tags": []
          },
          "execution_count": 20
        }
      ]
    },
    {
      "cell_type": "code",
      "metadata": {
        "id": "pDBFzHMiZ6kj",
        "colab_type": "code",
        "colab": {}
      },
      "source": [
        "y_train_labels_corrected = y_train_labels_plus.astype('float32')"
      ],
      "execution_count": null,
      "outputs": []
    },
    {
      "cell_type": "code",
      "metadata": {
        "id": "lrGT47CNy7cF",
        "colab_type": "code",
        "colab": {
          "base_uri": "https://localhost:8080/",
          "height": 34
        },
        "outputId": "1881b9ad-55e9-4d2d-ee2e-bb4d78d28d28"
      },
      "source": [
        "knn = cv.ml.KNearest_create()\n",
        "knn.train(X_train[:1000,:],\n",
        "          cv.ml.ROW_SAMPLE,\n",
        "          y_train[:1000]\n",
        "          )"
      ],
      "execution_count": null,
      "outputs": [
        {
          "output_type": "execute_result",
          "data": {
            "text/plain": [
              "True"
            ]
          },
          "metadata": {
            "tags": []
          },
          "execution_count": 22
        }
      ]
    },
    {
      "cell_type": "markdown",
      "metadata": {
        "id": "nvCYBLX-y7cH",
        "colab_type": "text"
      },
      "source": [
        "## Pas het model toe op de testing set"
      ]
    },
    {
      "cell_type": "code",
      "metadata": {
        "id": "9Gnnms3ky7cH",
        "colab_type": "code",
        "colab": {}
      },
      "source": [
        "ret,result,neighbours,dist = knn.findNearest(X_test,k=5)"
      ],
      "execution_count": null,
      "outputs": []
    },
    {
      "cell_type": "code",
      "metadata": {
        "id": "d2iXUGGXxdS_",
        "colab_type": "code",
        "colab": {
          "base_uri": "https://localhost:8080/",
          "height": 136
        },
        "outputId": "c0f683a9-2d48-49c8-bf83-a69fa3be50b4"
      },
      "source": [
        "result"
      ],
      "execution_count": null,
      "outputs": [
        {
          "output_type": "execute_result",
          "data": {
            "text/plain": [
              "array([[5.],\n",
              "       [0.],\n",
              "       [4.],\n",
              "       ...,\n",
              "       [5.],\n",
              "       [6.],\n",
              "       [9.]], dtype=float32)"
            ]
          },
          "metadata": {
            "tags": []
          },
          "execution_count": 24
        }
      ]
    },
    {
      "cell_type": "markdown",
      "metadata": {
        "id": "wCsGm7xgy7cJ",
        "colab_type": "text"
      },
      "source": [
        "## Bepaal de nauwkeurigheid van het model"
      ]
    },
    {
      "cell_type": "code",
      "metadata": {
        "id": "qNz2swFxy7cK",
        "colab_type": "code",
        "tags": [],
        "colab": {
          "base_uri": "https://localhost:8080/",
          "height": 51
        },
        "outputId": "92d318de-4374-4ea4-84c9-a6641e8631e2"
      },
      "source": [
        "matches = result==y_test.reshape(10000,1)\n",
        "correct = np.count_nonzero(matches)\n",
        "accuracy = correct/result.size\n",
        "\n",
        "print(accuracy)\n"
      ],
      "execution_count": null,
      "outputs": [
        {
          "output_type": "stream",
          "text": [
            "0.8501166666666666\n",
            "test\n"
          ],
          "name": "stdout"
        }
      ]
    },
    {
      "cell_type": "markdown",
      "metadata": {
        "id": "jWsriVp_y7cT",
        "colab_type": "text"
      },
      "source": [
        "## Toon verwarringsmatrix"
      ]
    },
    {
      "cell_type": "code",
      "metadata": {
        "id": "ROE7FZIsyvn9",
        "colab_type": "code",
        "tags": [],
        "colab": {
          "base_uri": "https://localhost:8080/",
          "height": 187
        },
        "outputId": "d9a6fd9a-bf59-466f-a519-52242ac7a250"
      },
      "source": [
        "cm = confusion_matrix(y_train_labels_corrected,result)\n",
        "print(cm)"
      ],
      "execution_count": null,
      "outputs": [
        {
          "output_type": "stream",
          "text": [
            "[[5791    6   23   10    7   38   33    4    4    7]\n",
            " [   0 6697   15    4    6    5    4    8    1    2]\n",
            " [ 229  427 4916   60   46   48   27  178   15   12]\n",
            " [  68  135  261 5285   15  216   14   75   36   26]\n",
            " [   9  160   22    1 5159    3   37   66    2  383]\n",
            " [ 141  119   12  662  110 4187   70   32   28   60]\n",
            " [ 220  137   37    5  135  102 5282    0    0    0]\n",
            " [  14  185   41   27  160   29    1 5667    1  140]\n",
            " [ 167  297  318  423  143  451   90  119 3675  168]\n",
            " [  34   39   34  102  704   35    8  629   16 4348]]\n"
          ],
          "name": "stdout"
        }
      ]
    },
    {
      "cell_type": "code",
      "metadata": {
        "id": "2Edyb8Kyyl3L",
        "colab_type": "code",
        "colab": {
          "base_uri": "https://localhost:8080/",
          "height": 265
        },
        "outputId": "f6906148-97f9-4677-fe4f-93753859e75b"
      },
      "source": [
        "plt.imshow(cm)\n",
        "plt.colorbar();"
      ],
      "execution_count": null,
      "outputs": [
        {
          "output_type": "display_data",
          "data": {
            "image/png": "[encoded data removed]",
            "text/plain": [
              "<Figure size 432x288 with 2 Axes>"
            ]
          },
          "metadata": {
            "tags": [],
            "needs_background": "light"
          }
        }
      ]
    },
    {
      "cell_type": "code",
      "metadata": {
        "id": "IlhOyp4wy7cT",
        "colab_type": "code",
        "colab": {
          "base_uri": "https://localhost:8080/",
          "height": 268
        },
        "outputId": "4896d103-9393-4a15-8e8e-b6dc965f8449"
      },
      "source": [
        "for i in range(0,10):\n",
        "    cm[i,i] = 0\n",
        "\n",
        "plt.imshow(cm)\n",
        "plt.colorbar();"
      ],
      "execution_count": null,
      "outputs": [
        {
          "output_type": "display_data",
          "data": {
            "image/png": "[encoded data removed]",
            "text/plain": [
              "<Figure size 432x288 with 2 Axes>"
            ]
          },
          "metadata": {
            "tags": [],
            "needs_background": "light"
          }
        }
      ]
    },
    {
      "cell_type": "code",
      "metadata": {
        "id": "F43UQcgly7cV",
        "colab_type": "code",
        "colab": {}
      },
      "source": [
        ""
      ],
      "execution_count": null,
      "outputs": []
    },
    {
      "cell_type": "markdown",
      "metadata": {
        "id": "tPB4KYSzy7cM",
        "colab_type": "text"
      },
      "source": [
        "## Toon 12 voorbeelden van fouten van het model"
      ]
    },
    {
      "cell_type": "code",
      "metadata": {
        "id": "u3GUt1-Ry7cM",
        "colab_type": "code",
        "colab": {
          "base_uri": "https://localhost:8080/",
          "height": 232
        },
        "outputId": "00d5c15a-e9dd-4fdf-807a-dc65ea278bfc"
      },
      "source": [
        "mistakes = result!=y_test.reshape(len(y_test), 1)\n",
        "mistakes = mistakes.reshape(len(mistakes))\n",
        "\n",
        " \n",
        "\n",
        "index_mistake = enumerate(mistakes)\n",
        "index_mistake = [index for index, mistake in index_mistake if mistake == True]"
      ],
      "execution_count": null,
      "outputs": [
        {
          "output_type": "error",
          "ename": "NameError",
          "evalue": "ignored",
          "traceback": [
            "\u001b[0;31m---------------------------------------------------------------------------\u001b[0m",
            "\u001b[0;31mNameError\u001b[0m                                 Traceback (most recent call last)",
            "\u001b[0;32m<ipython-input-38-b5ecc31151d7>\u001b[0m in \u001b[0;36m<module>\u001b[0;34m()\u001b[0m\n\u001b[0;32m----> 1\u001b[0;31m \u001b[0mmistakes\u001b[0m \u001b[0;34m=\u001b[0m \u001b[0mresult\u001b[0m\u001b[0;34m!=\u001b[0m\u001b[0my_test\u001b[0m\u001b[0;34m.\u001b[0m\u001b[0mreshape\u001b[0m\u001b[0;34m(\u001b[0m\u001b[0mlen\u001b[0m\u001b[0;34m(\u001b[0m\u001b[0my_test\u001b[0m\u001b[0;34m)\u001b[0m\u001b[0;34m,\u001b[0m \u001b[0;36m1\u001b[0m\u001b[0;34m)\u001b[0m\u001b[0;34m\u001b[0m\u001b[0;34m\u001b[0m\u001b[0m\n\u001b[0m\u001b[1;32m      2\u001b[0m \u001b[0mmistakes\u001b[0m \u001b[0;34m=\u001b[0m \u001b[0mmistakes\u001b[0m\u001b[0;34m.\u001b[0m\u001b[0mreshape\u001b[0m\u001b[0;34m(\u001b[0m\u001b[0mlen\u001b[0m\u001b[0;34m(\u001b[0m\u001b[0mmistakes\u001b[0m\u001b[0;34m)\u001b[0m\u001b[0;34m)\u001b[0m\u001b[0;34m\u001b[0m\u001b[0;34m\u001b[0m\u001b[0m\n\u001b[1;32m      3\u001b[0m \u001b[0;34m\u001b[0m\u001b[0m\n\u001b[1;32m      4\u001b[0m \u001b[0;34m\u001b[0m\u001b[0m\n\u001b[1;32m      5\u001b[0m \u001b[0;34m\u001b[0m\u001b[0m\n",
            "\u001b[0;31mNameError\u001b[0m: name 'y_test' is not defined"
          ]
        }
      ]
    },
    {
      "cell_type": "code",
      "metadata": {
        "id": "LmIcIUjGy7cP",
        "colab_type": "code",
        "colab": {
          "base_uri": "https://localhost:8080/",
          "height": 34
        },
        "outputId": "dbcb5e6a-ef24-4d54-d729-bcd7062d549c"
      },
      "source": [
        "np.count_nonzero(mistakes)"
      ],
      "execution_count": null,
      "outputs": [
        {
          "output_type": "execute_result",
          "data": {
            "text/plain": [
              "8993"
            ]
          },
          "metadata": {
            "tags": []
          },
          "execution_count": 31
        }
      ]
    },
    {
      "cell_type": "code",
      "metadata": {
        "id": "pfmj7pucy7cR",
        "colab_type": "code",
        "colab": {
          "base_uri": "https://localhost:8080/",
          "height": 331
        },
        "outputId": "ebd5e0f6-d498-4d53-d1df-f99139f186eb"
      },
      "source": [
        "# TODO: selecteer voorbeeld uit de fouten!\n",
        "\n",
        " \n",
        "\n",
        "for sub in range(1, 13):\n",
        "        plt.subplot(3,4, sub)\n",
        "        i = np.random.choice(index_mistake)\n",
        "        \n",
        "        plt.axis(\"off\")\n",
        "        plt.imshow(255 - X_test_raw[i], cmap='gray')\n",
        "        number = result[i]\n",
        "        plt.title('%i' % number);"
      ],
      "execution_count": null,
      "outputs": [
        {
          "output_type": "error",
          "ename": "NameError",
          "evalue": "ignored",
          "traceback": [
            "\u001b[0;31m---------------------------------------------------------------------------\u001b[0m",
            "\u001b[0;31mNameError\u001b[0m                                 Traceback (most recent call last)",
            "\u001b[0;32m<ipython-input-37-d4b8917e2aa5>\u001b[0m in \u001b[0;36m<module>\u001b[0;34m()\u001b[0m\n\u001b[1;32m      5\u001b[0m \u001b[0;32mfor\u001b[0m \u001b[0msub\u001b[0m \u001b[0;32min\u001b[0m \u001b[0mrange\u001b[0m\u001b[0;34m(\u001b[0m\u001b[0;36m1\u001b[0m\u001b[0;34m,\u001b[0m \u001b[0;36m13\u001b[0m\u001b[0;34m)\u001b[0m\u001b[0;34m:\u001b[0m\u001b[0;34m\u001b[0m\u001b[0;34m\u001b[0m\u001b[0m\n\u001b[1;32m      6\u001b[0m         \u001b[0mplt\u001b[0m\u001b[0;34m.\u001b[0m\u001b[0msubplot\u001b[0m\u001b[0;34m(\u001b[0m\u001b[0;36m3\u001b[0m\u001b[0;34m,\u001b[0m\u001b[0;36m4\u001b[0m\u001b[0;34m,\u001b[0m \u001b[0msub\u001b[0m\u001b[0;34m)\u001b[0m\u001b[0;34m\u001b[0m\u001b[0;34m\u001b[0m\u001b[0m\n\u001b[0;32m----> 7\u001b[0;31m         \u001b[0mi\u001b[0m \u001b[0;34m=\u001b[0m \u001b[0mnp\u001b[0m\u001b[0;34m.\u001b[0m\u001b[0mrandom\u001b[0m\u001b[0;34m.\u001b[0m\u001b[0mchoice\u001b[0m\u001b[0;34m(\u001b[0m\u001b[0mindex_mistake\u001b[0m\u001b[0;34m)\u001b[0m\u001b[0;34m\u001b[0m\u001b[0;34m\u001b[0m\u001b[0m\n\u001b[0m\u001b[1;32m      8\u001b[0m \u001b[0;34m\u001b[0m\u001b[0m\n\u001b[1;32m      9\u001b[0m         \u001b[0mplt\u001b[0m\u001b[0;34m.\u001b[0m\u001b[0maxis\u001b[0m\u001b[0;34m(\u001b[0m\u001b[0;34m\"off\"\u001b[0m\u001b[0;34m)\u001b[0m\u001b[0;34m\u001b[0m\u001b[0;34m\u001b[0m\u001b[0m\n",
            "\u001b[0;31mNameError\u001b[0m: name 'index_mistake' is not defined"
          ]
        },
        {
          "output_type": "display_data",
          "data": {
            "image/png": "[encoded data removed]",
            "text/plain": [
              "<Figure size 432x288 with 1 Axes>"
            ]
          },
          "metadata": {
            "tags": [],
            "needs_background": "light"
          }
        }
      ]
    }
  ]
}