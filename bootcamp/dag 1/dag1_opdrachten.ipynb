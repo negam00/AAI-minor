{
 "cells": [
  {
   "cell_type": "markdown",
   "metadata": {
    "colab_type": "text",
    "id": "u76QJWQJBCk-"
   },
   "source": [
    "###1. Hello world"
   ]
  },
  {
   "cell_type": "code",
   "execution_count": 10,
   "metadata": {
    "colab": {
     "base_uri": "https://localhost:8080/",
     "height": 34
    },
    "colab_type": "code",
    "id": "v7cVBzw4E34B",
    "outputId": "496378c2-5bec-4d1a-c73d-efe348a211d6"
   },
   "outputs": [
    {
     "name": "stdout",
     "output_type": "stream",
     "text": [
      "hello world\n"
     ]
    }
   ],
   "source": [
    "# 1) Print \"hello world\" naar scherm \n",
    "print('hello world')"
   ]
  },
  {
   "cell_type": "code",
   "execution_count": 2,
   "metadata": {
    "colab": {
     "base_uri": "https://localhost:8080/",
     "height": 34
    },
    "colab_type": "code",
    "id": "ug4dA0ZWE-pu",
    "outputId": "16d4c795-3af1-46f7-970f-5b40b498604d"
   },
   "outputs": [
    {
     "name": "stdout",
     "output_type": "stream",
     "text": [
      "hello world\n"
     ]
    }
   ],
   "source": [
    "# 2) Maak een variabele hw die de tekst \"hello world bevat en print \n",
    "# deze ook \n",
    "hw = 'hello world'\n",
    "print(hw)"
   ]
  },
  {
   "cell_type": "code",
   "execution_count": 4,
   "metadata": {
    "colab": {
     "base_uri": "https://localhost:8080/",
     "height": 34
    },
    "colab_type": "code",
    "id": "qyKvhmBsFcs3",
    "outputId": "caa874b2-9682-4dbb-9fb8-ceafafbb9b48"
   },
   "outputs": [
    {
     "ename": "SyntaxError",
     "evalue": "EOL while scanning string literal (<ipython-input-4-ead3a583130e>, line 1)",
     "output_type": "error",
     "traceback": [
      "\u001b[0;36m  File \u001b[0;32m\"<ipython-input-4-ead3a583130e>\"\u001b[0;36m, line \u001b[0;32m1\u001b[0m\n\u001b[0;31m    \"\"\" 3) Print de derde letter van \"hello world\"\"\"\"\u001b[0m\n\u001b[0m                                                     ^\u001b[0m\n\u001b[0;31mSyntaxError\u001b[0m\u001b[0;31m:\u001b[0m EOL while scanning string literal\n"
     ]
    }
   ],
   "source": [
    "# 3) Print de derde letter van \"hello world\n",
    "\n",
    "print(hw[2])"
   ]
  },
  {
   "cell_type": "code",
   "execution_count": 8,
   "metadata": {
    "colab": {
     "base_uri": "https://localhost:8080/",
     "height": 34
    },
    "colab_type": "code",
    "id": "n0vL6RMsGydE",
    "outputId": "73f10cf7-0638-4cc6-a1af-651f44e17311"
   },
   "outputs": [
    {
     "name": "stdout",
     "output_type": "stream",
     "text": [
      "hello\n",
      "hello\n"
     ]
    }
   ],
   "source": [
    "#4) Print het eerste woord van \"hello world\n",
    "print(hw[0:5])\n",
    "\n",
    "# or \n",
    "\n",
    "hw_words = hw.split(\" \")\n",
    "print(hw_words[0])"
   ]
  },
  {
   "cell_type": "code",
   "execution_count": 6,
   "metadata": {
    "colab": {
     "base_uri": "https://localhost:8080/",
     "height": 51
    },
    "colab_type": "code",
    "id": "5Xxn6Bz4HCq5",
    "outputId": "20c4d491-0534-465c-bec0-ba7c80a23854"
   },
   "outputs": [
    {
     "ename": "SyntaxError",
     "evalue": "EOL while scanning string literal (<ipython-input-6-517d3fb5e64b>, line 1)",
     "output_type": "error",
     "traceback": [
      "\u001b[0;36m  File \u001b[0;32m\"<ipython-input-6-517d3fb5e64b>\"\u001b[0;36m, line \u001b[0;32m1\u001b[0m\n\u001b[0;31m    \"\"\" 5) Print de laatste letter van \"hello world\"\"\"\"\u001b[0m\n\u001b[0m                                                       ^\u001b[0m\n\u001b[0;31mSyntaxError\u001b[0m\u001b[0;31m:\u001b[0m EOL while scanning string literal\n"
     ]
    }
   ],
   "source": [
    "# 5) Print de laatste letter van \"hello world# \"\n",
    "\n",
    "print(hw[-1])"
   ]
  },
  {
   "cell_type": "code",
   "execution_count": 9,
   "metadata": {
    "colab": {
     "base_uri": "https://localhost:8080/",
     "height": 34
    },
    "colab_type": "code",
    "id": "YqTKcmv55VCv",
    "outputId": "eee6a794-9490-4c76-f095-2137060bf8f1"
   },
   "outputs": [
    {
     "name": "stdout",
     "output_type": "stream",
     "text": [
      "hello world\n"
     ]
    }
   ],
   "source": [
    "# 6)Maak een functie die \"hello world\" print. # \n",
    "def hello_world():\n",
    "  #  Print hello world # \n",
    "  print(hw)\n",
    "\n",
    "hello_world()"
   ]
  },
  {
   "cell_type": "code",
   "execution_count": null,
   "metadata": {
    "colab": {
     "base_uri": "https://localhost:8080/",
     "height": 35
    },
    "colab_type": "code",
    "id": "-uRRZFQv5X9J",
    "outputId": "5c9acb87-0565-4e8c-e45d-e21e80373e8e"
   },
   "outputs": [
    {
     "data": {
      "application/vnd.google.colaboratory.intrinsic+json": {
       "type": "string"
      },
      "text/plain": [
       "'Hello world'"
      ]
     },
     "execution_count": 17,
     "metadata": {
      "tags": []
     },
     "output_type": "execute_result"
    }
   ],
   "source": [
    "# 7)Maak een functie die \"hello world\" teruggeeft # \n",
    "def hellow_world():  \n",
    "  #  Return hello world # \n",
    "  return \"Hello world\"\n",
    "\n",
    "hellow_world()"
   ]
  },
  {
   "cell_type": "code",
   "execution_count": null,
   "metadata": {
    "colab": {
     "base_uri": "https://localhost:8080/",
     "height": 34
    },
    "colab_type": "code",
    "id": "gGnL9GbW5YzJ",
    "outputId": "e5361fc6-d4ef-48d0-9786-4da9972edbd9"
   },
   "outputs": [
    {
     "name": "stdout",
     "output_type": "stream",
     "text": [
      "Artificial intelligence\n"
     ]
    }
   ],
   "source": [
    "# 8)  Maak een functie die een meegegeven tekst print# \n",
    "\n",
    "def print_string(text):\n",
    "  print(text)\n",
    "\n",
    "print_string(\"Artificial intelligence\")"
   ]
  },
  {
   "cell_type": "code",
   "execution_count": null,
   "metadata": {
    "colab": {
     "base_uri": "https://localhost:8080/",
     "height": 34
    },
    "colab_type": "code",
    "id": "11m8D0jO5awc",
    "outputId": "cc2c6932-312c-41b9-e452-72d09693e62a"
   },
   "outputs": [
    {
     "name": "stdout",
     "output_type": "stream",
     "text": [
      "Python 66 Number\n"
     ]
    }
   ],
   "source": [
    "# 9) Maak een functie die een meegegeven variabele print# \n",
    "def print_variables(*args):\n",
    "  print(*args)\n",
    "\n",
    "print_variables(\"Python\", 66, \"Number\")"
   ]
  },
  {
   "cell_type": "markdown",
   "metadata": {
    "colab_type": "text",
    "id": "KcFlixrhAW3R"
   },
   "source": [
    "###2. Jupyter"
   ]
  },
  {
   "cell_type": "markdown",
   "metadata": {
    "colab_type": "text",
    "id": "2Dt4uO_pBLqP"
   },
   "source": [
    "###3. Sommetjes en lijstjes"
   ]
  },
  {
   "cell_type": "code",
   "execution_count": null,
   "metadata": {
    "colab": {
     "base_uri": "https://localhost:8080/",
     "height": 102
    },
    "colab_type": "code",
    "id": "Kh-2VzVWyHWL",
    "outputId": "460abb75-0a33-4a0f-812f-7547fee8db79"
   },
   "outputs": [
    {
     "name": "stdout",
     "output_type": "stream",
     "text": [
      "2\n",
      "[1, 2, 3, 4, 5, 6, 7, 8, 9, 10]\n",
      "[1, 2, 3, 4, 5, 6, 7, 8, 9, 10, 11, 12, 12, 14, 15]\n",
      "[6, 7, 8, 9, 10, 11, 12, 13, 14, 15, 16, 17, 17, 19, 20]\n"
     ]
    },
    {
     "data": {
      "text/plain": [
       "5050"
      ]
     },
     "execution_count": 14,
     "metadata": {
      "tags": []
     },
     "output_type": "execute_result"
    }
   ],
   "source": [
    "# Reken 1+1 uit # \n",
    "r = 1 + 1\n",
    "\n",
    "print(r)\n",
    "\n",
    "# Maak lijstje a=[1,2,3,4,5,6,7,8,9,10], gebruik range() # \n",
    "a = list(range(1,11))\n",
    "print( a)\n",
    "\n",
    "# Maak het lijstje b=[11,12,13,14,15] en plak deze erachteraan # \n",
    "b = [11,12,12,14,15]\n",
    "c = a + b\n",
    "\n",
    "print(c)\n",
    "\n",
    "# Tel 5 bij elk element op, gebruik list comprehension # \n",
    "added_five = [x +5 for x in c]\n",
    "\n",
    "print(added_five)\n",
    "\n",
    "# Neem vervolgens de som # \n",
    "sum(added_five)\n",
    "\n",
    "# Reken ∑i uit voor i=10# \n",
    "sum(list(range(1,101)))\n"
   ]
  },
  {
   "cell_type": "markdown",
   "metadata": {
    "colab_type": "text",
    "id": "5I0A1Qx_BQpK"
   },
   "source": [
    "###4. Meer functies en conditionals"
   ]
  },
  {
   "cell_type": "code",
   "execution_count": null,
   "metadata": {
    "colab": {
     "base_uri": "https://localhost:8080/",
     "height": 289
    },
    "colab_type": "code",
    "id": "ORDVPKny3JDt",
    "outputId": "1ae4dd59-9982-43f1-c976-1ea65b79201f"
   },
   "outputs": [
    {
     "name": "stdout",
     "output_type": "stream",
     "text": [
      "False\n",
      "True\n",
      "True\n",
      "False\n",
      "False\n",
      "True\n",
      "True\n",
      "True\n",
      "False\n",
      "pythonclasses\n",
      "4\n",
      "5\n",
      "6\n",
      "5\n",
      "(6, 6)\n",
      "8\n"
     ]
    }
   ],
   "source": [
    "# Kijk wat de volgende operators doen\n",
    "print( 5 == 6 ) # equal\n",
    "print( 5 != 6 ) # not equal\n",
    "print( 5 < 6 ) # is 5 smaller than 6\n",
    "print( 5 > 6 ) # is 5 bigger than 6\n",
    "print( 5 >= 6 ) # is 5 bigger/equal to 6\n",
    "print( 5 <= 6 ) # is 5 smaller/equal to 6\n",
    "\n",
    "\n",
    "#Kijk wat de \"in\" operator doet\n",
    "print('s' in 'Mississippi') # single chars\n",
    "print('sip' in 'Mississippi') # substrings\n",
    "print('mis' in 'Mississippi') # case-sensitive\n",
    "\n",
    "# 3) Maak een functie die 2 string variabelen aan elkaar plakt en print\n",
    "def concat_string(a, b):\n",
    "    return a + b\n",
    "    \n",
    "print(concat_string(\"python\", \"classes\"))\n",
    "\n",
    "# 4) Maak een functie die 2 integers bij elkaar optelt\n",
    "def add_integers(a, b):\n",
    "    # add a and b# \n",
    "    return a + b\n",
    "\n",
    "print(add_integers(1, 3))\n",
    "\n",
    "# 4a) Alleen als de tweede groter is dan de eerste\n",
    "def add_integers_bigger(a, b):\n",
    "    # add a and b only if b is bigger than a# \n",
    "    \n",
    "    return a + b if b > a else a\n",
    "\n",
    "print(add_integers_bigger(2,3))\n",
    "\n",
    "# 4b) Alleen als ze gelijk zijn\n",
    "def add_equal_integers(a, b):\n",
    "    # add a and b if they are equal otherwise return a# \n",
    "    return a + b if a == b else a\n",
    "\n",
    "print(add_equal_integers(3,3))\n",
    "\n",
    "# 5 Tel steeds 1 op bij de laagste getal tot ze gelijk zijn en geef dan \n",
    "# dat getal terug. Print de tussenresultaten\n",
    "def increment_until_equal(a, b):\n",
    "    while a < b:\n",
    "        print(a)\n",
    "        a += 1\n",
    "    \n",
    "    while a > b:\n",
    "        print(b)\n",
    "        b += 1\n",
    "        \n",
    "    return a, b\n",
    "    \n",
    "print(increment_until_equal(6, 5))\n",
    "\n",
    "from math import pi\n",
    "def biggest_element(a,b):\n",
    "    c = float(a) * pi\n",
    "    return c if c > b else b\n",
    "    \n",
    "print(biggest_element(2, 8))\n"
   ]
  },
  {
   "cell_type": "markdown",
   "metadata": {
    "colab_type": "text",
    "id": "DOAER-ARBXaa"
   },
   "source": [
    "###5. Dictionary"
   ]
  },
  {
   "cell_type": "code",
   "execution_count": null,
   "metadata": {
    "colab": {
     "base_uri": "https://localhost:8080/",
     "height": 425
    },
    "colab_type": "code",
    "id": "q2krGmu34bQL",
    "outputId": "c8e42d33-b5d1-42b3-f63d-efc8e2fe06c3"
   },
   "outputs": [
    {
     "name": "stdout",
     "output_type": "stream",
     "text": [
      "5\n",
      "dict_keys(['a', 'b', 'c']) dict_values([1, 20, 5])\n",
      "1\n",
      "20\n",
      "5\n",
      "a\n",
      "b\n",
      "c\n",
      "1\n",
      "5\n",
      "20\n"
     ]
    },
    {
     "data": {
      "text/plain": [
       "{'P': 1,\n",
       " 'a': 3,\n",
       " 'e': 1,\n",
       " 'g': 2,\n",
       " 'h': 1,\n",
       " 'i': 1,\n",
       " 'l': 1,\n",
       " 'n': 2,\n",
       " 'o': 1,\n",
       " 's': 1,\n",
       " 't': 1,\n",
       " 'u': 1,\n",
       " 'y': 1}"
      ]
     },
     "execution_count": 1,
     "metadata": {
      "tags": []
     },
     "output_type": "execute_result"
    }
   ],
   "source": [
    "# Maak simpele dictionary a = { 'a' : 1, 'b' : 20} # \n",
    "a = { 'a' : 1, 'b' : 20}\n",
    "\n",
    "# Voeg toe: 'c'=5 en kijk of de key 'c' er nu in zit# \n",
    "a['c'] = 5\n",
    "print(a['c'])\n",
    "\n",
    "# Print de keys & values # \n",
    "print(a.keys(), a.values())\n",
    "\n",
    "#  Loop over de values # \n",
    "for value in a.values():\n",
    "  print(value)\n",
    "\n",
    "# Loop over de gesorteerde keys & values # \n",
    "sorted_keys = sorted(a.keys())\n",
    "sorted_values = sorted(a.values())\n",
    "\n",
    "for key in sorted_keys:\n",
    "    print(key)\n",
    "    \n",
    "for value in sorted_values:\n",
    "    print(value)\n",
    "\n",
    "\n",
    "\n",
    "# Schrijf functie die een dict gebruikt om aantal letters te tellen in een zin#  \n",
    "sentence = \"Python is a language\"\n",
    "\n",
    "def tel_letters(sent):\n",
    "  d = {}\n",
    "  for letter in sent:\n",
    "    if letter.isalpha():\n",
    "      if letter not in d:\n",
    "        d[letter]=1\n",
    "      else:\n",
    "        d[letter]+=1\n",
    "  return d \n",
    "\n",
    "tel_letters(sentence)"
   ]
  }
 ],
 "metadata": {
  "colab": {
   "name": "dag1_opdrachten.ipynb",
   "provenance": []
  },
  "kernelspec": {
   "display_name": "Python 3",
   "language": "python",
   "name": "python3"
  },
  "language_info": {
   "codemirror_mode": {
    "name": "ipython",
    "version": 3
   },
   "file_extension": ".py",
   "mimetype": "text/x-python",
   "name": "python",
   "nbconvert_exporter": "python",
   "pygments_lexer": "ipython3",
   "version": "3.7.4"
  }
 },
 "nbformat": 4,
 "nbformat_minor": 1
}
