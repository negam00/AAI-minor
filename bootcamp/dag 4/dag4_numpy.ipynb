{
 "cells": [
  {
   "cell_type": "markdown",
   "metadata": {
    "colab_type": "text",
    "id": "Nn4Qzgx-2m9Y"
   },
   "source": [
    "# Python versus Numpy\n",
    "\n",
    "### Stijn Oomes\n",
    "donderdag 3 september 2020\n",
    "\n",
    "---\n",
    " \n",
    "**Python Data Science Handbook**\n",
    "\n",
    "Chapter 2. Introduction to NumPy\n",
    "\n",
    "https://learning.oreilly.com/library/view/python-data-science/9781491912126/ch02.html#introduction-to-numpy"
   ]
  },
  {
   "cell_type": "markdown",
   "metadata": {
    "colab_type": "text",
    "id": "QFTVWQPu1fAf"
   },
   "source": [
    "## Importeer libraries"
   ]
  },
  {
   "cell_type": "markdown",
   "metadata": {
    "colab_type": "text",
    "id": "AuuPF_Q43f90"
   },
   "source": [
    "Controleer welke version van Python in dit notebook wordt gerund.\n",
    "\n",
    "Hint: met ! kun je commandline commando's draaien."
   ]
  },
  {
   "cell_type": "code",
   "execution_count": 30,
   "metadata": {
    "colab": {
     "base_uri": "https://localhost:8080/",
     "height": 34
    },
    "colab_type": "code",
    "id": "34e1blkU1jVf",
    "outputId": "08d16928-40ac-4d7a-eb2c-1e9ec824e037"
   },
   "outputs": [
    {
     "name": "stdout",
     "output_type": "stream",
     "text": [
      "Python 3.6.9\n"
     ]
    }
   ],
   "source": [
    "!python3 --version"
   ]
  },
  {
   "cell_type": "markdown",
   "metadata": {
    "colab_type": "text",
    "id": "pIhpnHi_4Laf"
   },
   "source": [
    "Importeer Numpy en OpenCV en controleer welke versie worden gerund."
   ]
  },
  {
   "cell_type": "code",
   "execution_count": 31,
   "metadata": {
    "colab": {
     "base_uri": "https://localhost:8080/",
     "height": 35
    },
    "colab_type": "code",
    "id": "6E1LpQe11u24",
    "outputId": "ac8a0dc1-4d58-490b-956d-6946e020b824"
   },
   "outputs": [
    {
     "data": {
      "application/vnd.google.colaboratory.intrinsic+json": {
       "type": "string"
      },
      "text/plain": [
       "'1.18.5'"
      ]
     },
     "execution_count": 31,
     "metadata": {
      "tags": []
     },
     "output_type": "execute_result"
    }
   ],
   "source": [
    "import numpy as np\n",
    "np.__version__"
   ]
  },
  {
   "cell_type": "code",
   "execution_count": 32,
   "metadata": {
    "colab": {
     "base_uri": "https://localhost:8080/",
     "height": 35
    },
    "colab_type": "code",
    "id": "cDXGHao61zWn",
    "outputId": "5f8b50b2-72c9-4484-ef63-2d39cad296ec"
   },
   "outputs": [
    {
     "data": {
      "application/vnd.google.colaboratory.intrinsic+json": {
       "type": "string"
      },
      "text/plain": [
       "'4.1.2'"
      ]
     },
     "execution_count": 32,
     "metadata": {
      "tags": []
     },
     "output_type": "execute_result"
    }
   ],
   "source": [
    "import cv2 as cv \n",
    "cv.__version__"
   ]
  },
  {
   "cell_type": "markdown",
   "metadata": {
    "colab_type": "text",
    "id": "TyJ5LW-S64zm"
   },
   "source": [
    "Ik check ook meteen even de versies van Scikit-Learn, TensorFlow, en Keras. Deze libraries gaan we volgende week gebruiken."
   ]
  },
  {
   "cell_type": "code",
   "execution_count": 33,
   "metadata": {
    "colab": {
     "base_uri": "https://localhost:8080/",
     "height": 35
    },
    "colab_type": "code",
    "id": "687_2sjo7Ey-",
    "outputId": "e6dd5e17-ad0a-4c20-dba2-36da35bef8dd"
   },
   "outputs": [
    {
     "data": {
      "application/vnd.google.colaboratory.intrinsic+json": {
       "type": "string"
      },
      "text/plain": [
       "'0.22.2.post1'"
      ]
     },
     "execution_count": 33,
     "metadata": {
      "tags": []
     },
     "output_type": "execute_result"
    }
   ],
   "source": [
    "import sklearn as sk\n",
    "sk.__version__"
   ]
  },
  {
   "cell_type": "code",
   "execution_count": 34,
   "metadata": {
    "colab": {
     "base_uri": "https://localhost:8080/",
     "height": 35
    },
    "colab_type": "code",
    "id": "9SAd-G3XXYOY",
    "outputId": "daab9896-710c-4c69-e7ce-56d71700c3ec"
   },
   "outputs": [
    {
     "data": {
      "application/vnd.google.colaboratory.intrinsic+json": {
       "type": "string"
      },
      "text/plain": [
       "'2.3.0'"
      ]
     },
     "execution_count": 34,
     "metadata": {
      "tags": []
     },
     "output_type": "execute_result"
    }
   ],
   "source": [
    "import tensorflow as tf\n",
    "tf.__version__"
   ]
  },
  {
   "cell_type": "code",
   "execution_count": 35,
   "metadata": {
    "colab": {
     "base_uri": "https://localhost:8080/",
     "height": 35
    },
    "colab_type": "code",
    "id": "zfcS2IWCXYtk",
    "outputId": "8438e449-4690-4d43-ead1-a276e221c138"
   },
   "outputs": [
    {
     "data": {
      "application/vnd.google.colaboratory.intrinsic+json": {
       "type": "string"
      },
      "text/plain": [
       "'2.4.3'"
      ]
     },
     "execution_count": 35,
     "metadata": {
      "tags": []
     },
     "output_type": "execute_result"
    }
   ],
   "source": [
    "import keras\n",
    "keras.__version__"
   ]
  },
  {
   "cell_type": "markdown",
   "metadata": {
    "colab_type": "text",
    "id": "vxmGsI5J1qqn"
   },
   "source": [
    "## Definieer een parameter"
   ]
  },
  {
   "cell_type": "markdown",
   "metadata": {
    "colab_type": "text",
    "id": "W10S21jl8NBl"
   },
   "source": [
    "Definieer een parameter n en geef het voorlopig even een relatief kleine waarde, bijvoorbeeld 4.\n",
    "\n",
    "We beginnen de test met een datastructuur met weinig elementen. Daarna mag je die waarde zo groot maken als je computer aan kan."
   ]
  },
  {
   "cell_type": "code",
   "execution_count": 36,
   "metadata": {
    "colab": {},
    "colab_type": "code",
    "id": "lJa6RHyKIc18"
   },
   "outputs": [],
   "source": [
    "n = 4"
   ]
  },
  {
   "cell_type": "markdown",
   "metadata": {
    "colab_type": "text",
    "id": "RlRD_h2K8ep6"
   },
   "source": [
    "## Meet hoeveel geheugen wordt gebruikt"
   ]
  },
  {
   "cell_type": "markdown",
   "metadata": {
    "colab_type": "text",
    "id": "Ws-WGiKV8qaz"
   },
   "source": [
    "Hoe kunnen we zien hoeveel geheugen een datastructuur inneemt?\n",
    "\n",
    "Definieer een lijst in Python met `n` elementen met een random waarde.\n",
    "\n",
    "Hint: `import random`"
   ]
  },
  {
   "cell_type": "code",
   "execution_count": 37,
   "metadata": {
    "colab": {
     "base_uri": "https://localhost:8080/",
     "height": 34
    },
    "colab_type": "code",
    "id": "fq6OZosi9xuu",
    "outputId": "9ff6fb29-ef63-47b7-a35a-2e71fd79f9d5"
   },
   "outputs": [
    {
     "name": "stdout",
     "output_type": "stream",
     "text": [
      "[0.1274259306440717, 0.7033863860931299, 0.010534942516164603, 0.5374365080388082]\n"
     ]
    }
   ],
   "source": [
    "import random\n",
    "\n",
    "random_list = []\n",
    "\n",
    "for i in range (n):\n",
    "  new = random.random()\n",
    "  random_list.append(new)\n",
    "\n",
    "print(random_list)"
   ]
  },
  {
   "cell_type": "markdown",
   "metadata": {
    "colab_type": "text",
    "id": "h_Se7xe_Aqp0"
   },
   "source": [
    "\n",
    "Kijk daarna hoeveel bytes deze lijst in het geheugen inneemt.\n",
    "\n",
    "Hint: `import sys`"
   ]
  },
  {
   "cell_type": "code",
   "execution_count": 38,
   "metadata": {
    "colab": {
     "base_uri": "https://localhost:8080/",
     "height": 34
    },
    "colab_type": "code",
    "id": "AD5-VV1s-7ER",
    "outputId": "c88dbecf-23f8-4c32-fbcf-f19c8cdfe8ca"
   },
   "outputs": [
    {
     "data": {
      "text/plain": [
       "96"
      ]
     },
     "execution_count": 38,
     "metadata": {
      "tags": []
     },
     "output_type": "execute_result"
    }
   ],
   "source": [
    "import sys\n",
    "\n",
    "sys.getsizeof(random_list)"
   ]
  },
  {
   "cell_type": "markdown",
   "metadata": {
    "colab_type": "text",
    "id": "5wObavLdAUSa"
   },
   "source": [
    "Kijk ook hoeveel één element van deze lijst in het geheugen inneemt."
   ]
  },
  {
   "cell_type": "code",
   "execution_count": 39,
   "metadata": {
    "colab": {
     "base_uri": "https://localhost:8080/",
     "height": 34
    },
    "colab_type": "code",
    "id": "wjod3XRw_Xqn",
    "outputId": "32c5952b-9d06-4eb1-ad04-5687f5e3585e"
   },
   "outputs": [
    {
     "data": {
      "text/plain": [
       "24"
      ]
     },
     "execution_count": 39,
     "metadata": {
      "tags": []
     },
     "output_type": "execute_result"
    }
   ],
   "source": [
    "sys.getsizeof(random_list[0])"
   ]
  },
  {
   "cell_type": "markdown",
   "metadata": {
    "colab_type": "text",
    "id": "9CaosQyD2GPK"
   },
   "source": [
    "Experimenteer eens met de grootte van andere datatypes. \n",
    "\n",
    "Hoeveel geheugen neemt een Boolean in? Verbaast je dat?"
   ]
  },
  {
   "cell_type": "code",
   "execution_count": 40,
   "metadata": {
    "colab": {
     "base_uri": "https://localhost:8080/",
     "height": 34
    },
    "colab_type": "code",
    "id": "4Uy3GWaphNYv",
    "outputId": "883c36a6-b002-4e84-e841-f5c9f4a547db"
   },
   "outputs": [
    {
     "data": {
      "text/plain": [
       "28"
      ]
     },
     "execution_count": 40,
     "metadata": {
      "tags": []
     },
     "output_type": "execute_result"
    }
   ],
   "source": [
    "true_bytes = True\n",
    "sys.getsizeof(true_bytes)\n"
   ]
  },
  {
   "cell_type": "code",
   "execution_count": 41,
   "metadata": {
    "colab": {
     "base_uri": "https://localhost:8080/",
     "height": 34
    },
    "colab_type": "code",
    "id": "QcTjku0DXw_h",
    "outputId": "20f9ac74-fa2a-4523-ae1a-def4ad5d8536"
   },
   "outputs": [
    {
     "data": {
      "text/plain": [
       "24"
      ]
     },
     "execution_count": 41,
     "metadata": {
      "tags": []
     },
     "output_type": "execute_result"
    }
   ],
   "source": [
    "false_bytes = False\n",
    "sys.getsizeof(false_bytes)\n",
    "\n",
    "# De false boolean is 4 bytes minder, dat verbaaste me inderdaad wel."
   ]
  },
  {
   "cell_type": "markdown",
   "metadata": {
    "colab_type": "text",
    "id": "forC9GEBC7CC"
   },
   "source": [
    "## Meet hoe lang een berekening duurt"
   ]
  },
  {
   "cell_type": "markdown",
   "metadata": {
    "colab_type": "text",
    "id": "ynDy0tphDAv4"
   },
   "source": [
    "Hoe lang duurt het om bijvoorbeeld alle getallen in onze lijst op te tellen?"
   ]
  },
  {
   "cell_type": "code",
   "execution_count": 42,
   "metadata": {
    "colab": {
     "base_uri": "https://localhost:8080/",
     "height": 34
    },
    "colab_type": "code",
    "id": "RvSDJUxqC6uC",
    "outputId": "15f24778-c556-4e41-b33c-fc3bc6e6e798"
   },
   "outputs": [
    {
     "data": {
      "text/plain": [
       "1.3787837672921743"
      ]
     },
     "execution_count": 42,
     "metadata": {
      "tags": []
     },
     "output_type": "execute_result"
    }
   ],
   "source": [
    "sum(random_list)"
   ]
  },
  {
   "cell_type": "markdown",
   "metadata": {
    "colab_type": "text",
    "id": "JWE3vFZpDNpT"
   },
   "source": [
    "Meet de starttijd, voer de sommatie uit, meet de eindtijd. Bepaal het verschil tusen eindtijd en begintijd. \n",
    "\n",
    "In welke eenheid wordt de tijd gemeten?\n",
    "\n",
    "\n",
    "Hint: `import time`"
   ]
  },
  {
   "cell_type": "code",
   "execution_count": 49,
   "metadata": {
    "colab": {
     "base_uri": "https://localhost:8080/",
     "height": 34
    },
    "colab_type": "code",
    "id": "jedyLrvED20O",
    "outputId": "af6b976b-3e88-4e93-d7d5-07cdea07306c"
   },
   "outputs": [
    {
     "name": "stdout",
     "output_type": "stream",
     "text": [
      "It takes 2.574920654296875e-05 nanoseconds to count the sum of the list.\n"
     ]
    }
   ],
   "source": [
    "import time \n",
    "\n",
    "start = time.time()\n",
    "sum(random_list)\n",
    "end = time.time()\n",
    "\n",
    "print(f\"It takes {end-start} nanoseconds to count the sum of the list.\")"
   ]
  },
  {
   "cell_type": "markdown",
   "metadata": {
    "colab_type": "text",
    "id": "ZakyZzozJpC8"
   },
   "source": [
    "## Python list"
   ]
  },
  {
   "cell_type": "markdown",
   "metadata": {
    "colab_type": "text",
    "id": "V3hOvXpt2tGW"
   },
   "source": [
    "Maak twee Python lists van lengte n. Vermenigvuldig die twee lists elementsgewijs. Tel vervolgens alle getallen bij elkaar op.\n",
    "\n",
    "Bepaal hoeveel bytes de Python list in neemt.\n",
    "\n",
    "Meet ook hoe lang deze berekeningen duren. Let op je parameter n is nu nog klein."
   ]
  },
  {
   "cell_type": "code",
   "execution_count": 44,
   "metadata": {
    "colab": {
     "base_uri": "https://localhost:8080/",
     "height": 34
    },
    "colab_type": "code",
    "id": "klxdgEJrKscp",
    "outputId": "3d251fb9-3de2-44d0-9178-38cf2a99e44e"
   },
   "outputs": [
    {
     "name": "stdout",
     "output_type": "stream",
     "text": [
      "100000 loops, best of 3: 12.1 µs per loop\n"
     ]
    }
   ],
   "source": [
    "%%timeit\n",
    "\n",
    "python_list =[random.randrange(255) for i in range(n*n)]\n",
    "python_list2 = [a*b for a,b in zip(python_list, python_list)]\n",
    "\n",
    "sum(python_list2)"
   ]
  },
  {
   "cell_type": "markdown",
   "metadata": {
    "colab_type": "text",
    "id": "hy31aEn3Jsw0"
   },
   "source": [
    "## NumPy array"
   ]
  },
  {
   "cell_type": "markdown",
   "metadata": {
    "colab_type": "text",
    "id": "KFj6xMSn3Ozs"
   },
   "source": [
    "Maak twee NumPy arrays van lengte n. Vermenigvuldig de twee arrays elementsgewijs. Tel vervolgens alle getallen bij elkaar op.\n",
    "\n",
    "Bepaal hoeveel bytes de NumPy array in neemt.\n",
    "\n",
    "Meet hoe lang deze berekeningen duren. Let op je parameter n is nu nog klein."
   ]
  },
  {
   "cell_type": "code",
   "execution_count": 45,
   "metadata": {
    "colab": {
     "base_uri": "https://localhost:8080/",
     "height": 51
    },
    "colab_type": "code",
    "id": "EGNyDT93KTRj",
    "outputId": "a49647be-1164-4df1-8f44-1c364809c88f"
   },
   "outputs": [
    {
     "name": "stdout",
     "output_type": "stream",
     "text": [
      "The slowest run took 19.15 times longer than the fastest. This could mean that an intermediate result is being cached.\n",
      "10000 loops, best of 3: 15.6 µs per loop\n"
     ]
    }
   ],
   "source": [
    "%%timeit\n",
    "array = np.random.randint(255, size=(n,n))\n",
    "array2= array*array\n",
    "array2.sum()"
   ]
  },
  {
   "cell_type": "markdown",
   "metadata": {
    "colab_type": "text",
    "id": "kt25l3SH1oS_"
   },
   "source": [
    "## Vergelijking Python list versus NumPy array"
   ]
  },
  {
   "cell_type": "markdown",
   "metadata": {
    "colab_type": "text",
    "id": "uvnfhHXX3fmQ"
   },
   "source": [
    "Kijk nu voor verschillende waardes van de parameter n hoe lang de berekeningen duren.\n",
    "\n",
    "Bereken voor elke n de tijd voor de Python berekening gedeeld door de NumPy bereking.\n",
    "\n",
    "Kies als verschillende n waardes bijvoorbeeld 4, 8, 16, 32, 64, 128, 256, 1024.\n",
    "\n",
    "Een grafiek zou hier heel handig zijn!"
   ]
  },
  {
   "cell_type": "code",
   "execution_count": 53,
   "metadata": {
    "colab": {},
    "colab_type": "code",
    "id": "ueAQkxVjaQ-h"
   },
   "outputs": [],
   "source": [
    "import matplotlib.pyplot as plt \n",
    "n = [4, 8, 16, 32, 64, 128, 256, 1024, 2048]\n",
    "max = n[len(n)-1]+1\n",
    "y1 = []\n",
    "y2 = []\n",
    "for array in range(1, 2+1):\n",
    "    for x in n:\n",
    "        if array == 1: # Create the python lists\n",
    "            a = random.sample(range(1, max), x)\n",
    "            b = random.sample(range(1, max), x)\n",
    "        else: # Create the numpy arrays\n",
    "            a = np.array(random.sample(range(1, max), x))\n",
    "            b = np.array(random.sample(range(1, max), x))\n",
    "            \n",
    "        # Calculate the total time it takes to sum all elements    \n",
    "        startTime = time.time()\n",
    "        ab = [a * b for a,b in zip(a,b)]\n",
    "        total = sum(ab)\n",
    "        endTime = time.time()\n",
    "        elapsed_time = endTime - startTime\n",
    "        if array == 1:\n",
    "            y1.append(elapsed_time)\n",
    "        else:\n",
    "            y2.append(elapsed_time)"
   ]
  },
  {
   "cell_type": "code",
   "execution_count": 54,
   "metadata": {
    "colab": {
     "base_uri": "https://localhost:8080/",
     "height": 295
    },
    "colab_type": "code",
    "id": "n1ajzKw3aQw2",
    "outputId": "2e159c30-a540-420a-b4c3-c1c5b15bafe8"
   },
   "outputs": [
    {
     "data": {
      "image/png": "[encoded data removed]",
      "text/plain": [
       "<Figure size 432x288 with 1 Axes>"
      ]
     },
     "metadata": {
      "needs_background": "light",
      "tags": []
     },
     "output_type": "display_data"
    }
   ],
   "source": [
    "plt.plot(n,y1, label=\"Python Array\")\n",
    "plt.plot(n,y2, label=\"NumPy Array\")\n",
    "plt.xlabel('N values in array')\n",
    "plt.ylabel('Elapsed time')\n",
    "plt.title('Elapsed time per array')\n",
    "plt.xticks(n)\n",
    "plt.legend()\n",
    "plt.show()"
   ]
  }
 ],
 "metadata": {
  "accelerator": "GPU",
  "colab": {
   "collapsed_sections": [],
   "name": "dag4_numpy.ipynb",
   "provenance": []
  },
  "kernelspec": {
   "display_name": "Python 3",
   "language": "python",
   "name": "python3"
  },
  "language_info": {
   "codemirror_mode": {
    "name": "ipython",
    "version": 3
   },
   "file_extension": ".py",
   "mimetype": "text/x-python",
   "name": "python",
   "nbconvert_exporter": "python",
   "pygments_lexer": "ipython3",
   "version": "3.7.4"
  }
 },
 "nbformat": 4,
 "nbformat_minor": 1
}
